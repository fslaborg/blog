{
 "cells": [
  {
   "attachments": {},
   "cell_type": "markdown",
   "metadata": {},
   "source": [
    "# Data Science in F# 2023 is a wrap!\n",
    "\n",
    "The first edition of [Data Science in F#](https://datascienceinfsharp.com/) is \n",
    "now behind us!  \n",
    "\n",
    "Nearly 100 F# and data science enthusiasts gathered in Berlin for 3 days of \n",
    "talks, workshops, lively discussions, and joyful coding and open-source hacking, \n",
    "and we could not be happier about how the conference went!  \n",
    "\n",
    "![Group photo](../../images/conference-berlin-2023/group-picture.jpg)\n",
    "\n",
    "We were hoping that the conference would offer a chance for like-minded people \n",
    "to meet and form a tighter community of F# and data science practitioners, and \n",
    "ideally, ignite collaborations around the \n",
    "[fsLab open source ecosystem](https://github.com/fslaborg/). There was plenty \n",
    "of that happening during the open space and the Saturday hacktathon, which \n",
    "sparked multiple \n",
    "[conversations and contributions](https://github.com/fslaborg/FSharp.Stats/commits/developer?since=2023-09-28&until=2023-09-30).\n",
    "\n",
    "So first, a heart-felt thank you to all of you who joined the conference. All the \n",
    "attendees of course, but also all the [speakers](https://datascienceinfsharp.com/agenda/). \n",
    "You made this conference an event we won't forget!\n",
    "\n",
    "Speaking of, if you missed the conference, or simply want to watch a talk again, \n",
    "we have good news for you! Most of the talks were recorded, and we will be \n",
    "making them available online, once they have been put in shape. \n",
    "\n",
    "We will also be collecting links to the slides and code presented \n",
    "[here on GitHub](https://github.com/fslaborg/conference-resources/). So stay \n",
    "tuned, and follow us on [Twitter/X](https://twitter.com/fslaborg)!\n",
    "\n",
    "Finally, a huge thanks to the sponsors who made it possible to put together the \n",
    "conference, [Hack & Craft](https://hackandcraft.com/) and the [University Kaiserslautern Landau RPTU](https://rptu.de/en/).\n",
    "\n",
    "Again, thank you to everyone who attended and made this event possible, and... \n",
    "see you all at the next one :)  \n",
    "\n",
    "The Data Science in F# Team,  \n",
    "[Benedikt](https://github.com/bvenn), [Beth](), [Harry](https://github.com/HarryMcCarney), [Kevin](https://github.com/kMutagene), [Mathias](https://github.com/mathias-brandewinder) & [Timo](https://github.com/muehlhaus)."
   ]
  }
 ],
 "metadata": {
  "kernelspec": {
   "display_name": ".NET (C#)",
   "language": "C#",
   "name": ".net-csharp"
  },
  "language_info": {
   "name": "polyglot-notebook"
  },
  "polyglot_notebook": {
   "kernelInfo": {
    "defaultKernelName": "csharp",
    "items": [
     {
      "aliases": [],
      "name": ".NET"
     },
     {
      "aliases": [
       "C#",
       "c#"
      ],
      "languageName": "C#",
      "name": "csharp"
     },
     {
      "aliases": [
       "F#",
       "f#"
      ],
      "languageName": "F#",
      "name": "fsharp"
     },
     {
      "aliases": [],
      "languageName": "HTML",
      "name": "html"
     },
     {
      "aliases": [],
      "languageName": "KQL",
      "name": "kql"
     },
     {
      "aliases": [],
      "languageName": "Mermaid",
      "name": "mermaid"
     },
     {
      "aliases": [
       "powershell"
      ],
      "languageName": "PowerShell",
      "name": "pwsh"
     },
     {
      "aliases": [],
      "languageName": "SQL",
      "name": "sql"
     },
     {
      "aliases": [],
      "name": "value"
     },
     {
      "aliases": [
       "frontend"
      ],
      "name": "vscode"
     }
    ]
   }
  }
 },
 "nbformat": 4,
 "nbformat_minor": 2
}
