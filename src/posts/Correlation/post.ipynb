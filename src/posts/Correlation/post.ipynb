{
 "cells": [
  {
   "cell_type": "markdown",
   "metadata": {},
   "source": [
    "# Pearson correlation coefficient, Correlation Matrices and Heatmap \n",
    "## Introduction: \n",
    "In this Blogpost we want to explain what a correlation matrix is, how they work, how  we create them, and how to interpret them. We will explain this procedure using a real RNA-Seq dataset. So lets get started.\n",
    "    \n",
    "## What is  a RNA-Seq? \n",
    "RNA-Seq, an abbreviation for RNA sequencing, is a method that utilizes next-generation sequencing to identify and quantify RNA molecules in a biological sample. \n",
    "This technique offers a comprehensive view of gene expression within the sample, referred to as the transcriptome. \n",
    "RNA-Seq specifically allows for the analysis of alternative transcripts, post-transcriptional modifications, gene fusions, mutations and single nucleotide polymorphisms (SNPs), as well as variations in gene expression over time or differences in gene expression between distinct groups or treatments.\n",
    "\n",
    "\n",
    "In addition to mRNA transcripts, the method can look at different populations of RNA, including:\n",
    " 1. total RNA\n",
    " 2. small RNA such as miRNA\n",
    " 3. tRNA  \n",
    " 4. ribosomal profiling. \n",
    " \n",
    " \n",
    "\n",
    "<div>\n",
    "<img src=\"https://raw.githubusercontent.com/fslaborg/blog/refs/heads/main/src/images/RNA_seq_schematic.png\" width=50%>\n",
    "</div>\n",
    "\n",
    "## The Experiment\n",
    "Our dataframe is based on an experiment that focused on cold acclimation in the model organism *A. thaliana*. The experiment was conducted to see if there are gene expression changes that are related to the influence of cold.\n",
    "\n",
    "All the samples were grown for 4 days under the influence of the named coining condition (acclimation phase). After 4 days, all plants were shifted to the \"control condition\" (deacclimation phase). Three measurements were taken at each time point. This means that we are working with replicates here. \n",
    "\n",
    "- 1 minute\n",
    "- 15 minutes\n",
    "- 180 minutes\n",
    "- 1,5 Days \n",
    "- 4 Days. \n",
    "\n",
    "\n",
    "## What we expect \n",
    "What we generally expect is, that when the plant first comes into contact with the cold, the expression level of some genes changes, and then decreases over time. Other genes are always expressed at a constant level. \n",
    "\n",
    "Here we compare replica groups at two different points in time, then calculate the Pearson correlation coefficient and create a heat map based on it. Here it is important to remember that we are not comparing individual genes, but two replica groups at a specific point in time. We expect our replica groups to differ in the various time intervals. The statistics we use here also serve as a quality measure for our experiment. So we cannot make any real biological statements here in relation to a different gene expression rate, only express how similar or dissimilar the replica groups are to each other.  \n",
    "\n",
    "# Lets get ready to rumble: \n",
    "At first intall the packages you need and open them:"
   ]
  },
  {
   "cell_type": "code",
   "execution_count": null,
   "metadata": {
    "dotnet_interactive": {
     "language": "fsharp"
    },
    "polyglot_notebook": {
     "kernelName": "fsharp"
    }
   },
   "outputs": [],
   "source": [
    "#r \"nuget: Deedle.Interactive, 3.0.0\"\n",
    "#r \"nuget: Plotly.NET, 4.2.0\"\n",
    "#r \"nuget: Plotly.NET.Interactive, 4.2.1\"\n",
    "#r \"nuget: FSharp.Stats.Interactive, 0.5.1-preview.2\"\n",
    "#r \"nuget: BioFSharp, 2.0.0-preview.3\"\n",
    "#r \"nuget: BioFSharp.IO, 2.0.0-preview.3\"\n",
    "#r \"nuget: Deedle, 3.0.0\""
   ]
  },
  {
   "cell_type": "code",
   "execution_count": 2,
   "metadata": {
    "dotnet_interactive": {
     "language": "fsharp"
    },
    "polyglot_notebook": {
     "kernelName": "fsharp"
    }
   },
   "outputs": [],
   "source": [
    "open Deedle.Interactive\n",
    "open Plotly.NET.Interactive\n",
    "open FSharp.Stats.Interactive\n",
    "open BioFSharp\n",
    "open BioFSharp.IO\n",
    "open Deedle\n",
    "open FSharp.Stats\n",
    "open FSharp.Stats.Signal.Outliers\n",
    "open Plotly.NET"
   ]
  },
  {
   "cell_type": "markdown",
   "metadata": {},
   "source": [
    "# Start of the Journey \n",
    "For the data we worked with a CSV file. For that we give the complete path. Additionally, we give the input how the CSV file is structured, consisting of  headers and comma separators. For to make it easier to work with our dataframe, we induce an index using the respective genes "
   ]
  },
  {
   "cell_type": "code",
   "execution_count": 3,
   "metadata": {
    "dotnet_interactive": {
     "language": "fsharp"
    },
    "polyglot_notebook": {
     "kernelName": "fsharp"
    }
   },
   "outputs": [
    {
     "data": {
      "text/html": [
       "<div>\r\n",
       "<style scoped>,\r\n",
       "  .dataframe tbody tr th:only-of-type {\r\n",
       "    vertical-align: middle;\r\n",
       "  }\r\n",
       "  .dataframe tbody tr th {,\r\n",
       "    vertical-align: top\r\n",
       "  }\r\n",
       "  .dataframe thead th {\r\n",
       "    text-align: right;\r\n",
       "  }\r\n",
       "  .no-wrap {\r\n",
       "    white-space: nowrap;\r\n",
       "  }\r\n",
       "</style>\r\n",
       "<table border='1' class='dataframe'>\r\n",
       "<thead><th></th><th></th><th>Cold_t_1_r_1_d_FALSE</th><th>Cold_t_1_r_1_d_TRUE</th><th>Cold_t_1_r_2_d_FALSE</th><th>Cold_t_1_r_2_d_TRUE</th><th>Cold_t_15_r_1_d_FALSE</th><th>Cold_t_15_r_1_d_TRUE</th><th>Cold_t_15_r_2_d_FALSE</th><th>Cold_t_15_r_2_d_TRUE</th><th>Cold_t_15_r_3_d_FALSE</th><th>Cold_t_15_r_3_d_TRUE</th><th>...</th><th>Cold_t_2880_r_2_d_FALSE</th><th>Cold_t_2880_r_2_d_TRUE</th><th>Cold_t_2880_r_3_d_FALSE</th><th>Cold_t_2880_r_3_d_TRUE</th><th>Cold_t_5760_r_1_d_FALSE</th><th>Cold_t_5760_r_1_d_TRUE</th><th>Cold_t_5760_r_2_d_FALSE</th><th>Cold_t_5760_r_2_d_TRUE</th><th>Cold_t_5760_r_3_d_FALSE</th><th>Cold_t_5760_r_3_d_TRUE</th></thead><thead><th></th><th></th><th>(int)</th><th>(int)</th><th>(int)</th><th>(int)</th><th>(int)</th><th>(int)</th><th>(int)</th><th>(int)</th><th>(int)</th><th>(int)</th><th>...</th><th>(int)</th><th>(int)</th><th>(int)</th><th>(int)</th><th>(int)</th><th>(int)</th><th>(int)</th><th>(int)</th><th>(int)</th><th>(int)</th></thead>\r\n",
       "<tr><td><b>AT1G01010</b></td><td class=\"no-wrap\">-></td><td>13</td><td>18</td><td>15</td><td>45</td><td>21</td><td>18</td><td>13</td><td>43</td><td>12</td><td>40</td><td>...</td><td>32</td><td>8</td><td>51</td><td>18</td><td>41</td><td>15</td><td>43</td><td>20</td><td>36</td><td>9</td></tr><tr><td><b>AT1G01020</b></td><td class=\"no-wrap\">-></td><td>50</td><td>78</td><td>54</td><td>83</td><td>74</td><td>77</td><td>74</td><td>92</td><td>90</td><td>75</td><td>...</td><td>76</td><td>67</td><td>63</td><td>44</td><td>70</td><td>64</td><td>57</td><td>72</td><td>85</td><td>38</td></tr><tr><td><b>AT1G01030</b></td><td class=\"no-wrap\">-></td><td>30</td><td>34</td><td>26</td><td>34</td><td>23</td><td>26</td><td>23</td><td>32</td><td>42</td><td>26</td><td>...</td><td>21</td><td>21</td><td>37</td><td>33</td><td>26</td><td>26</td><td>22</td><td>24</td><td>29</td><td>17</td></tr><tr><td><b>AT1G01040</b></td><td class=\"no-wrap\">-></td><td>187</td><td>153</td><td>207</td><td>190</td><td>214</td><td>145</td><td>139</td><td>172</td><td>158</td><td>178</td><td>...</td><td>294</td><td>224</td><td>250</td><td>198</td><td>173</td><td>228</td><td>112</td><td>233</td><td>244</td><td>155</td></tr><tr><td><b>AT1G01050</b></td><td class=\"no-wrap\">-></td><td>242</td><td>275</td><td>224</td><td>332</td><td>242</td><td>278</td><td>268</td><td>437</td><td>215</td><td>386</td><td>...</td><td>394</td><td>197</td><td>358</td><td>174</td><td>332</td><td>221</td><td>262</td><td>208</td><td>313</td><td>128</td></tr><tr><td><b>:</b></td><td class=\"no-wrap\"></td><td>...</td><td>...</td><td>...</td><td>...</td><td>...</td><td>...</td><td>...</td><td>...</td><td>...</td><td>...</td><td>...</td><td>...</td><td>...</td><td>...</td><td>...</td><td>...</td><td>...</td><td>...</td><td>...</td><td>...</td><td>...</td></tr><tr><td><b>ATMG09980</b></td><td class=\"no-wrap\">-></td><td>17</td><td>12</td><td>12</td><td>17</td><td>18</td><td>11</td><td>5</td><td>20</td><td>6</td><td>10</td><td>...</td><td>29</td><td>11</td><td>30</td><td>3</td><td>15</td><td>5</td><td>13</td><td>12</td><td>6</td><td>2</td></tr><tr><td><b>ATMG01370</b></td><td class=\"no-wrap\">-></td><td>9</td><td>28</td><td>11</td><td>27</td><td>4</td><td>41</td><td>19</td><td>35</td><td>22</td><td>35</td><td>...</td><td>43</td><td>11</td><td>26</td><td>5</td><td>64</td><td>27</td><td>40</td><td>16</td><td>30</td><td>15</td></tr><tr><td><b>ATMG01390</b></td><td class=\"no-wrap\">-></td><td>248</td><td>676</td><td>331</td><td>374</td><td>362</td><td>314</td><td>391</td><td>480</td><td>1019</td><td>356</td><td>...</td><td>705</td><td>1054</td><td>406</td><td>223</td><td>1017</td><td>1158</td><td>776</td><td>484</td><td>455</td><td>555</td></tr><tr><td><b>ATMG01400</b></td><td class=\"no-wrap\">-></td><td>6</td><td>0</td><td>1</td><td>0</td><td>0</td><td>4</td><td>1</td><td>2</td><td>0</td><td>1</td><td>...</td><td>0</td><td>1</td><td>1</td><td>1</td><td>1</td><td>2</td><td>0</td><td>1</td><td>0</td><td>0</td></tr><tr><td><b>ATMG01410</b></td><td class=\"no-wrap\">-></td><td>7</td><td>14</td><td>20</td><td>29</td><td>18</td><td>36</td><td>11</td><td>28</td><td>26</td><td>19</td><td>...</td><td>23</td><td>6</td><td>29</td><td>8</td><td>29</td><td>24</td><td>33</td><td>22</td><td>23</td><td>5</td></tr>\r\n",
       "</table>\r\n",
       "<p><b>18873</b> rows x <b>28</b> columns</p><p><b>0</b> missing values</p>\r\n",
       "</div>\r\n"
      ]
     },
     "metadata": {},
     "output_type": "display_data"
    }
   ],
   "source": [
    "let basePath = __SOURCE_DIRECTORY__\n",
    "let filePath = (\"../notebooks/1/data/Cold.csv\")\n",
    "let data = Frame.ReadCsv (filePath, hasHeaders =true, separators = \",\")\n",
    "\n",
    "let indexedFrame : Frame<string, string> = \n",
    "    Frame.indexRows \"Transcript\" data \n",
    "indexedFrame"
   ]
  },
  {
   "cell_type": "markdown",
   "metadata": {},
   "source": [
    "## Dataframe 2.0 \n",
    "You see we now have a cleaner dataframe but it is still massive. In this example we will only use six columns, the replicates for minute 15 and the replicates for 4 days. \n",
    "We use those time intervals because they are a good starting and end point for the experiment. The first genes for cold stress can be expected to be expressed from time point 15 minutes. After 4 days, the effects can also be measured over a long period of time. \n",
    "\n",
    "To extract the relevant columns we use the function Frame.SliceCols  "
   ]
  },
  {
   "cell_type": "code",
   "execution_count": 4,
   "metadata": {
    "dotnet_interactive": {
     "language": "fsharp"
    },
    "polyglot_notebook": {
     "kernelName": "fsharp"
    }
   },
   "outputs": [
    {
     "data": {
      "text/html": [
       "<div>\r\n",
       "<style scoped>,\r\n",
       "  .dataframe tbody tr th:only-of-type {\r\n",
       "    vertical-align: middle;\r\n",
       "  }\r\n",
       "  .dataframe tbody tr th {,\r\n",
       "    vertical-align: top\r\n",
       "  }\r\n",
       "  .dataframe thead th {\r\n",
       "    text-align: right;\r\n",
       "  }\r\n",
       "  .no-wrap {\r\n",
       "    white-space: nowrap;\r\n",
       "  }\r\n",
       "</style>\r\n",
       "<table border='1' class='dataframe'>\r\n",
       "<thead><th></th><th></th><th>Cold_t_15_r_1_d_FALSE</th><th>Cold_t_15_r_2_d_FALSE</th><th>Cold_t_15_r_3_d_FALSE</th><th>Cold_t_5760_r_1_d_FALSE</th><th>Cold_t_5760_r_2_d_FALSE</th><th>Cold_t_5760_r_3_d_FALSE</th></thead><thead><th></th><th></th><th>(int)</th><th>(int)</th><th>(int)</th><th>(int)</th><th>(int)</th><th>(int)</th></thead>\r\n",
       "<tr><td><b>AT1G01010</b></td><td class=\"no-wrap\">-></td><td>21</td><td>13</td><td>12</td><td>41</td><td>43</td><td>36</td></tr><tr><td><b>AT1G01020</b></td><td class=\"no-wrap\">-></td><td>74</td><td>74</td><td>90</td><td>70</td><td>57</td><td>85</td></tr><tr><td><b>AT1G01030</b></td><td class=\"no-wrap\">-></td><td>23</td><td>23</td><td>42</td><td>26</td><td>22</td><td>29</td></tr><tr><td><b>AT1G01040</b></td><td class=\"no-wrap\">-></td><td>214</td><td>139</td><td>158</td><td>173</td><td>112</td><td>244</td></tr><tr><td><b>AT1G01050</b></td><td class=\"no-wrap\">-></td><td>242</td><td>268</td><td>215</td><td>332</td><td>262</td><td>313</td></tr><tr><td><b>:</b></td><td class=\"no-wrap\"></td><td>...</td><td>...</td><td>...</td><td>...</td><td>...</td><td>...</td></tr><tr><td><b>ATMG09980</b></td><td class=\"no-wrap\">-></td><td>18</td><td>5</td><td>6</td><td>15</td><td>13</td><td>6</td></tr><tr><td><b>ATMG01370</b></td><td class=\"no-wrap\">-></td><td>4</td><td>19</td><td>22</td><td>64</td><td>40</td><td>30</td></tr><tr><td><b>ATMG01390</b></td><td class=\"no-wrap\">-></td><td>362</td><td>391</td><td>1019</td><td>1017</td><td>776</td><td>455</td></tr><tr><td><b>ATMG01400</b></td><td class=\"no-wrap\">-></td><td>0</td><td>1</td><td>0</td><td>1</td><td>0</td><td>0</td></tr><tr><td><b>ATMG01410</b></td><td class=\"no-wrap\">-></td><td>18</td><td>11</td><td>26</td><td>29</td><td>33</td><td>23</td></tr>\r\n",
       "</table>\r\n",
       "<p><b>18873</b> rows x <b>6</b> columns</p><p><b>0</b> missing values</p>\r\n",
       "</div>\r\n"
      ]
     },
     "metadata": {},
     "output_type": "display_data"
    }
   ],
   "source": [
    "let relevantColumns = seq {\"Cold_t_15_r_1_d_FALSE\"; \"Cold_t_15_r_2_d_FALSE\"; \"Cold_t_15_r_3_d_FALSE\"; \"Cold_t_5760_r_1_d_FALSE\"; \"Cold_t_5760_r_2_d_FALSE\"; \"Cold_t_5760_r_3_d_FALSE\"}\n",
    "\n",
    "let slicedData = Frame.sliceCols relevantColumns indexedFrame \n",
    "slicedData"
   ]
  },
  {
   "cell_type": "markdown",
   "metadata": {},
   "source": [
    "## Do we have a Problem?\n",
    "We will perform a transformation because we have a large data set and a log2 transformation allows to make the data more symmetric, reduces the variance and the linear relationship between the variables becomes easier to analyse. \n",
    "\n",
    "- Reminder: a log2 transformation, as we do here, makes it possible to reduce the bandwidth of a large group of data. That leads to a clearer analysis of our data.\n",
    "\n",
    "You may think we can easily start here now, but you may have seen, that there are some zeros. Do we like the number zero? Not in our case, since we want to peform a log2 transformation! \n",
    "\n",
    "- But applying a log2 transformation of zero is not defined because the logarithm of zero is not defined and tends to -infinity \n",
    "\n",
    "In our case, we cannot work with figures that approach -infinity. \n",
    "\n",
    "\n",
    "\n",
    "So before the transformation we must add +1 to every value. So that every zero becomes +1, so that we avoid the problem of -infinity. That is because\n",
    "we want to calculate the Pearson correlation coefficient, which in turn calculates the arithmetic mean and standard deviation, the results also tend towards -infinity, which makes the results unusable\n"
   ]
  },
  {
   "cell_type": "code",
   "execution_count": 5,
   "metadata": {
    "dotnet_interactive": {
     "language": "fsharp"
    },
    "polyglot_notebook": {
     "kernelName": "fsharp"
    }
   },
   "outputs": [
    {
     "data": {
      "text/html": [
       "<div>\r\n",
       "<style scoped>,\r\n",
       "  .dataframe tbody tr th:only-of-type {\r\n",
       "    vertical-align: middle;\r\n",
       "  }\r\n",
       "  .dataframe tbody tr th {,\r\n",
       "    vertical-align: top\r\n",
       "  }\r\n",
       "  .dataframe thead th {\r\n",
       "    text-align: right;\r\n",
       "  }\r\n",
       "  .no-wrap {\r\n",
       "    white-space: nowrap;\r\n",
       "  }\r\n",
       "</style>\r\n",
       "<table border='1' class='dataframe'>\r\n",
       "<thead><th></th><th></th><th>Cold_t_15_r_1_d_FALSE</th><th>Cold_t_15_r_2_d_FALSE</th><th>Cold_t_15_r_3_d_FALSE</th><th>Cold_t_5760_r_1_d_FALSE</th><th>Cold_t_5760_r_2_d_FALSE</th><th>Cold_t_5760_r_3_d_FALSE</th></thead><thead><th></th><th></th><th>(float)</th><th>(float)</th><th>(float)</th><th>(float)</th><th>(float)</th><th>(float)</th></thead>\r\n",
       "<tr><td><b>AT1G01010</b></td><td class=\"no-wrap\">-></td><td>4.459431618637297</td><td>3.8073549220576037</td><td>3.700439718141092</td><td>5.392317422778761</td><td>5.459431618637297</td><td>5.20945336562895</td></tr><tr><td><b>AT1G01020</b></td><td class=\"no-wrap\">-></td><td>6.22881869049588</td><td>6.22881869049588</td><td>6.507794640198696</td><td>6.149747119504682</td><td>5.857980995127572</td><td>6.426264754702098</td></tr><tr><td><b>AT1G01030</b></td><td class=\"no-wrap\">-></td><td>4.584962500721157</td><td>4.584962500721157</td><td>5.426264754702098</td><td>4.754887502163469</td><td>4.523561956057013</td><td>4.906890595608519</td></tr><tr><td><b>AT1G01040</b></td><td class=\"no-wrap\">-></td><td>7.74819284958946</td><td>7.129283016944966</td><td>7.312882955284356</td><td>7.442943495848729</td><td>6.820178962415189</td><td>7.936637939002572</td></tr><tr><td><b>AT1G01050</b></td><td class=\"no-wrap\">-></td><td>7.924812503605781</td><td>8.071462362556625</td><td>7.754887502163469</td><td>8.379378367071263</td><td>8.038918989292302</td><td>8.294620748891626</td></tr><tr><td><b>:</b></td><td class=\"no-wrap\"></td><td>...</td><td>...</td><td>...</td><td>...</td><td>...</td><td>...</td></tr><tr><td><b>ATMG09980</b></td><td class=\"no-wrap\">-></td><td>4.247927513443585</td><td>2.584962500721156</td><td>2.807354922057604</td><td>4</td><td>3.8073549220576037</td><td>2.807354922057604</td></tr><tr><td><b>ATMG01370</b></td><td class=\"no-wrap\">-></td><td>2.321928094887362</td><td>4.321928094887363</td><td>4.523561956057013</td><td>6.022367813028454</td><td>5.357552004618084</td><td>4.954196310386876</td></tr><tr><td><b>ATMG01390</b></td><td class=\"no-wrap\">-></td><td>8.50382573799575</td><td>8.614709844115207</td><td>9.994353436858859</td><td>9.991521846075695</td><td>9.60177078840771</td><td>8.832890014164743</td></tr><tr><td><b>ATMG01400</b></td><td class=\"no-wrap\">-></td><td>0</td><td>1</td><td>0</td><td>1</td><td>0</td><td>0</td></tr><tr><td><b>ATMG01410</b></td><td class=\"no-wrap\">-></td><td>4.247927513443585</td><td>3.5849625007211565</td><td>4.754887502163469</td><td>4.906890595608519</td><td>5.08746284125034</td><td>4.584962500721157</td></tr>\r\n",
       "</table>\r\n",
       "<p><b>18873</b> rows x <b>6</b> columns</p><p><b>0</b> missing values</p>\r\n",
       "</div>\r\n"
      ]
     },
     "metadata": {},
     "output_type": "display_data"
    }
   ],
   "source": [
    "let slicedDataLog2 = \n",
    "    slicedData  \n",
    "    |> Frame.mapValues (fun value -> log2 (value + 1.0))\n",
    "slicedDataLog2"
   ]
  },
  {
   "cell_type": "markdown",
   "metadata": {},
   "source": [
    "# Pearson correlation coefficient \n",
    "## Definition \n",
    "It calculates the correlation and thereby the strength and direction of the linear relationship between two variables in a dataset. It can assume values between -1 and 1. The formula for calculating the Pearson correlation coefficient is as follows. \n",
    "\n",
    "$$\n",
    "r = \\frac{\\sum(x_i - \\bar{x})(y_i - \\bar{y})}{(N-1) s_x s_y} = \\frac{s_xy}{s_x s_y}\n",
    "$$\n",
    "\n",
    "\n",
    "\n",
    "Let me explain the formula: \n",
    "1. $x_i$ stands for the observed values for x. \n",
    "- In our case, the x-Values are the values in Column 0 \n",
    " \n",
    "\n",
    "\n",
    "2. $y_i$ stands for the individual observed values for our y-values. \n",
    "- In our data, the y-Values are the values in Columns 1\n",
    "\n",
    "\n",
    "\n",
    "So x-values and y-values are the individual mearsured values of RNA concentration at a spefic point in time, which are compared with each other. \n",
    "\n",
    "\n",
    "\n",
    "\n",
    "\n",
    "\n",
    "3. $\\bar{x}$ and $\\bar{y}$  stands for the arithmetic mean of x and y . \n",
    " \n",
    "- $\\bar{x}$  and $\\bar{y}$  therefore represent the average value of our data\n",
    " \n",
    "\n",
    "\n",
    "\n",
    "\n",
    "\n",
    "\n",
    "4. $S_xy$ is the covariance. \n",
    "- The covariance primarily provides information about the direction of the correlation between x and y. It gives us an indication of how two variables change. \n",
    "\n",
    "\n",
    "\n",
    "\n",
    "\n",
    "\n",
    "5. $S_x$ is the standard deviation of x. \n",
    "\n",
    "\n",
    "\n",
    "\n",
    "\n",
    "6. $S_y$ is the standard deviation of y. "
   ]
  },
  {
   "cell_type": "markdown",
   "metadata": {},
   "source": [
    "## Example of Pearson correlation coeficient \n",
    "\n",
    "Before we return to our data, i would like to explain how the Pearson correlation coefficient works using a simple example. Imagine we are examining two factors: \n",
    "1. the hours devoted to studying and \n",
    "2. the resulting scores on a test. \n",
    "\n",
    "Our interest lies in uncovering any potential relationship between these variables.\n",
    "\n",
    "\n",
    "| Student | Hours studied| Test Score| \n",
    "| --- | ---| --- |\n",
    "| Paul | 2 | 60 |\n",
    "| Anna | 3 | 70 |\n",
    "| Chris | 5 | 75 |\n",
    "| Sophie | 7 | 85 |\n",
    "| Mark | 4 | 65 |\n",
    "\n",
    "\n",
    "\n",
    "\n",
    "The result for our example is r = 0.93 is this a good result? "
   ]
  },
  {
   "cell_type": "code",
   "execution_count": 6,
   "metadata": {
    "dotnet_interactive": {
     "language": "fsharp"
    },
    "polyglot_notebook": {
     "kernelName": "fsharp"
    }
   },
   "outputs": [
    {
     "data": {
      "text/html": [
       "<div class=\"dni-plaintext\"><pre>0.9324324324324325</pre></div><style>\r\n",
       ".dni-code-hint {\r\n",
       "    font-style: italic;\r\n",
       "    overflow: hidden;\r\n",
       "    white-space: nowrap;\r\n",
       "}\r\n",
       ".dni-treeview {\r\n",
       "    white-space: nowrap;\r\n",
       "}\r\n",
       ".dni-treeview td {\r\n",
       "    vertical-align: top;\r\n",
       "    text-align: start;\r\n",
       "}\r\n",
       "details.dni-treeview {\r\n",
       "    padding-left: 1em;\r\n",
       "}\r\n",
       "table td {\r\n",
       "    text-align: start;\r\n",
       "}\r\n",
       "table tr { \r\n",
       "    vertical-align: top; \r\n",
       "    margin: 0em 0px;\r\n",
       "}\r\n",
       "table tr td pre \r\n",
       "{ \r\n",
       "    vertical-align: top !important; \r\n",
       "    margin: 0em 0px !important;\r\n",
       "} \r\n",
       "table th {\r\n",
       "    text-align: start;\r\n",
       "}\r\n",
       "</style>"
      ]
     },
     "metadata": {},
     "output_type": "display_data"
    }
   ],
   "source": [
    "let xValues = [2.; 3.; 5.; 7.; 4.]\n",
    "let yValues = [60.; 70.; 75.; 85.; 65.] \n",
    "\n",
    "let count = 5. // total numbers in both lists \n",
    "let sumX = List.sum xValues // addition of the numbers in xValues \n",
    "let sumY = List.sum yValues // addition of the numbers in yValues \n",
    "\n",
    "let sumXY =  \n",
    "    List.map2 ( fun v1 v2 -> v1 * v2 ) xValues yValues // multiplication of variables of both lists \n",
    "    |> List.sum  // addition \n",
    "\n",
    "let sumXX = xValues |> List.map (fun x -> x ** 2.) |> List.sum // square every xValues\n",
    "let sumYY = yValues |> List.map (fun y -> y ** 2.) |> List.sum // square every yValues\n",
    "\n",
    "let cov = sumXY * count - sumX * sumY // calculating the covariance \n",
    "\n",
    "let deviationForX = sqrt ( count * sumXX  -  sumX **2.) // calculating the deviation for all the x\n",
    "let deviationForY = sqrt ( count * sumYY  -  sumY **2.) // calculating the deviation for all the y \n",
    "\n",
    "\n",
    "let pearson = // calculating the Pearson correlation coefficient \n",
    "    cov / (deviationForX * deviationForY)\n",
    "pearson\n",
    "\n"
   ]
  },
  {
   "cell_type": "code",
   "execution_count": 7,
   "metadata": {
    "dotnet_interactive": {
     "language": "fsharp"
    },
    "polyglot_notebook": {
     "kernelName": "fsharp"
    }
   },
   "outputs": [
    {
     "data": {
      "text/html": [
       "<div class=\"dni-plaintext\"><pre>0.9324324324324325</pre></div><style>\r\n",
       ".dni-code-hint {\r\n",
       "    font-style: italic;\r\n",
       "    overflow: hidden;\r\n",
       "    white-space: nowrap;\r\n",
       "}\r\n",
       ".dni-treeview {\r\n",
       "    white-space: nowrap;\r\n",
       "}\r\n",
       ".dni-treeview td {\r\n",
       "    vertical-align: top;\r\n",
       "    text-align: start;\r\n",
       "}\r\n",
       "details.dni-treeview {\r\n",
       "    padding-left: 1em;\r\n",
       "}\r\n",
       "table td {\r\n",
       "    text-align: start;\r\n",
       "}\r\n",
       "table tr { \r\n",
       "    vertical-align: top; \r\n",
       "    margin: 0em 0px;\r\n",
       "}\r\n",
       "table tr td pre \r\n",
       "{ \r\n",
       "    vertical-align: top !important; \r\n",
       "    margin: 0em 0px !important;\r\n",
       "} \r\n",
       "table th {\r\n",
       "    text-align: start;\r\n",
       "}\r\n",
       "</style>"
      ]
     },
     "metadata": {},
     "output_type": "display_data"
    }
   ],
   "source": [
    "let pearsonCorrelationExample = Correlation.Seq.pearson xValues yValues\n",
    "pearsonCorrelationExample"
   ]
  },
  {
   "cell_type": "markdown",
   "metadata": {},
   "source": [
    "So as we see here our handwritten code and the function leads to the same result. "
   ]
  },
  {
   "cell_type": "markdown",
   "metadata": {},
   "source": [
    "## Interpretation of the example \n",
    "What does the value 1 tell us now? It indicates that the correlation between two variables has a perfect linear relationship. In simpler terms, a value of +1 means that if we invest many hours in learning, we will also achieve a good grade\n",
    "\n",
    "A value of -1 indicates that there is a perfect negative linear relationship between two variables. With a value of -1, less studying would lead to better grades. \n",
    "\n",
    "A value of 0 defines that there is no linear relationship between variables. A value of 0 means that there is no relationship between the number of hours learned and the result. An example of this would be that a small young student's favourite colour is pink. Body size and favourite colour have \n",
    "1. nothing to do with each other and \n",
    "2. certainly nothing to do with the example of learning and the resulting grade. \n",
    "\n",
    "So do we have a good example in the example above? This result indicates that there is a strong linear relationship between hours studied and the resulting grade."
   ]
  },
  {
   "cell_type": "markdown",
   "metadata": {},
   "source": [
    "## Using the Pearson  correlation coefficent \n",
    "Using our example, the Pearson correlation coefficient is calculated for each column with all other columns. \n",
    "\n",
    "For simplicity, let's look at the output of our next code. We get a matrix there we have 6 x 6 columns and take column zero and each value in column zero is compared to all values in column one and so on. \n",
    "\n",
    "The matrix shows how similar the individual columns are to each other. \n",
    "\n",
    "## Digression - matrices\n",
    "1. A matrix is a mathematical projection of a table that contains only numbers. They are used to describe linear transformation, among other things. \n",
    "2. In our case we have a correlation matrix.\n",
    "    - represents the Pearson correlation coefficient between two variables. The matrix is symmetrical, i.e. a diagonal of perfect values is created. \n",
    "    - A column always correlates with itself, which in our case, and as we will see later, means that a value of +1 is always assumed there.\n",
    "\n",
    "\n",
    "\n",
    "We take a step back, because what we have as headers of the columns are the individual replicas at different minutes. \n",
    "\n",
    "This means we check how similar the replicates are to each other and how similar the measurement data is between the time intervals. \n"
   ]
  },
  {
   "cell_type": "markdown",
   "metadata": {},
   "source": [
    "After understanding what the Person Coefficient is and how to calculate them lets go back to our data. In the next step we transfrom slicedDataLog2 into a matrix and calculate then the Pearson correlation coefficient. The output is a matrix of our six Columns from sliceDataLog2."
   ]
  },
  {
   "cell_type": "code",
   "execution_count": 8,
   "metadata": {
    "dotnet_interactive": {
     "language": "fsharp"
    },
    "polyglot_notebook": {
     "kernelName": "fsharp"
    }
   },
   "outputs": [
    {
     "data": {
      "text/html": [
       "<div>\n",
       "<style scoped>,\n",
       "  .dataframe tbody tr th:only-of-type {\n",
       "    vertical-align: middle;\n",
       "  }\n",
       "  .dataframe tbody tr th {,\n",
       "    vertical-align: top\n",
       "  }\n",
       "  .dataframe thead th {\n",
       "    text-align: right;\n",
       "  }\n",
       "  .no-wrap {\n",
       "    white-space: nowrap;\n",
       "  }\n",
       "</style>\n",
       "<table border='1' class='dataframe'>\n",
       "<thead><thead><th></th><th></th><th>0</th><th>1</th><th>2</th><th>3</th><th>4</th><th>5</th></thead></thead>\n",
       "<tbody><tr><td><b>0</b></td><td class=\"no-wrap\">-></td><td>1.000</td><td>0.972</td><td>0.966</td><td>0.885</td><td>0.887</td><td>0.890</td></tr><tr><td><b>1</b></td><td class=\"no-wrap\">-></td><td>0.972</td><td>1.000</td><td>0.950</td><td>0.881</td><td>0.887</td><td>0.884</td></tr><tr><td><b>2</b></td><td class=\"no-wrap\">-></td><td>0.966</td><td>0.950</td><td>1.000</td><td>0.881</td><td>0.879</td><td>0.886</td></tr><tr><td><b>3</b></td><td class=\"no-wrap\">-></td><td>0.885</td><td>0.881</td><td>0.881</td><td>1.000</td><td>0.979</td><td>0.969</td></tr><tr><td><b>4</b></td><td class=\"no-wrap\">-></td><td>0.887</td><td>0.887</td><td>0.879</td><td>0.979</td><td>1.000</td><td>0.968</td></tr><tr><td><b>5</b></td><td class=\"no-wrap\">-></td><td>0.890</td><td>0.884</td><td>0.886</td><td>0.969</td><td>0.968</td><td>1.000</td></tr></tbody>\n",
       "</table>\n",
       "<br>\n",
       "Matrix of 6 rows x 6 columns\n",
       "</div>\n"
      ]
     },
     "metadata": {},
     "output_type": "display_data"
    }
   ],
   "source": [
    "let transformSlicedDataLog2ToJaggedArray = \n",
    "    slicedDataLog2 \n",
    "    |> Frame.toJaggedArray \n",
    "    |> matrix \n",
    "\n",
    "let pearsonCorrelationMatrix3 = \n",
    "    Correlation.Matrix.columnWiseCorrelationMatrix Correlation.Seq.pearson transformSlicedDataLog2ToJaggedArray\n",
    "pearsonCorrelationMatrix3"
   ]
  },
  {
   "cell_type": "markdown",
   "metadata": {},
   "source": [
    "# Visualizing the Data\n",
    "After applying Pearson correlation coefficient to all six of our columns, we can already draw our first conclusion. \n",
    "\n",
    "## First conclusion \n",
    "We see here a lot of numbers between 0 and +1. So we can say that there is a positive linearity between the individual columns.\n",
    "\n",
    "Since graphics are much nicer and can also better represent the similarity, we create a so-called Heatmap that represents the Pearson correlation coefficient or the correlation between our individual columns. "
   ]
  },
  {
   "cell_type": "code",
   "execution_count": 9,
   "metadata": {
    "dotnet_interactive": {
     "language": "fsharp"
    },
    "polyglot_notebook": {
     "kernelName": "fsharp"
    }
   },
   "outputs": [
    {
     "data": {
      "text/html": [
       "<div><div id=\"0ba738e4-4375-49cd-90df-04c9a1ca439f\"><!-- Plotly chart will be drawn inside this DIV --></div><script type=\"text/javascript\">\n",
       "var renderPlotly_0ba738e4437549cd90df04c9a1ca439f = function() {\n",
       "    var fsharpPlotlyRequire = requirejs.config({context:'fsharp-plotly',paths:{plotly:'https://cdn.plot.ly/plotly-2.21.0.min'}}) || require;\n",
       "    fsharpPlotlyRequire(['plotly'], function(Plotly) {\n",
       "        var data = [{\"type\":\"heatmap\",\"x\":[\"15_minutes_R_1\",\"15_minutes_R_2\",\"15_minutes_R_3\",\"4_days_R_1\",\"4_days_R_2\",\"4_days_R_3\"],\"y\":[\"15_minutes_R_1\",\"15_minutes_R_2\",\"15_minutes_R_3\",\"4_days_R_1\",\"4_days_R_2\",\"4_days_R_3\"],\"z\":[[1.0,0.9721111258565652,0.9663429772825015,0.8850260033190644,0.8872729578970391,0.890442570212815],[0.9721111258565652,1.0,0.950433067579279,0.8813797644222056,0.8866932758818864,0.8840442433277313],[0.9663429772825015,0.950433067579279,1.0,0.8812263415302459,0.8785560262143081,0.8856198956292592],[0.8850260033190644,0.8813797644222056,0.8812263415302459,1.0,0.9789611406777183,0.9685659771178413],[0.8872729578970391,0.8866932758818864,0.8785560262143081,0.9789611406777183,1.0,0.9683056290620937],[0.890442570212815,0.8840442433277313,0.8856198956292592,0.9685659771178413,0.9683056290620937,1.0]]}];\n",
       "        var layout = {\"width\":1000,\"height\":900,\"template\":{\"layout\":{\"title\":{\"x\":0.05},\"font\":{\"color\":\"rgba(42, 63, 95, 1.0)\"},\"paper_bgcolor\":\"rgba(255, 255, 255, 1.0)\",\"plot_bgcolor\":\"rgba(229, 236, 246, 1.0)\",\"autotypenumbers\":\"strict\",\"colorscale\":{\"diverging\":[[0.0,\"#8e0152\"],[0.1,\"#c51b7d\"],[0.2,\"#de77ae\"],[0.3,\"#f1b6da\"],[0.4,\"#fde0ef\"],[0.5,\"#f7f7f7\"],[0.6,\"#e6f5d0\"],[0.7,\"#b8e186\"],[0.8,\"#7fbc41\"],[0.9,\"#4d9221\"],[1.0,\"#276419\"]],\"sequential\":[[0.0,\"#0d0887\"],[0.1111111111111111,\"#46039f\"],[0.2222222222222222,\"#7201a8\"],[0.3333333333333333,\"#9c179e\"],[0.4444444444444444,\"#bd3786\"],[0.5555555555555556,\"#d8576b\"],[0.6666666666666666,\"#ed7953\"],[0.7777777777777778,\"#fb9f3a\"],[0.8888888888888888,\"#fdca26\"],[1.0,\"#f0f921\"]],\"sequentialminus\":[[0.0,\"#0d0887\"],[0.1111111111111111,\"#46039f\"],[0.2222222222222222,\"#7201a8\"],[0.3333333333333333,\"#9c179e\"],[0.4444444444444444,\"#bd3786\"],[0.5555555555555556,\"#d8576b\"],[0.6666666666666666,\"#ed7953\"],[0.7777777777777778,\"#fb9f3a\"],[0.8888888888888888,\"#fdca26\"],[1.0,\"#f0f921\"]]},\"hovermode\":\"closest\",\"hoverlabel\":{\"align\":\"left\"},\"coloraxis\":{\"colorbar\":{\"outlinewidth\":0.0,\"ticks\":\"\"}},\"geo\":{\"showland\":true,\"landcolor\":\"rgba(229, 236, 246, 1.0)\",\"showlakes\":true,\"lakecolor\":\"rgba(255, 255, 255, 1.0)\",\"subunitcolor\":\"rgba(255, 255, 255, 1.0)\",\"bgcolor\":\"rgba(255, 255, 255, 1.0)\"},\"mapbox\":{\"style\":\"light\"},\"polar\":{\"bgcolor\":\"rgba(229, 236, 246, 1.0)\",\"radialaxis\":{\"linecolor\":\"rgba(255, 255, 255, 1.0)\",\"gridcolor\":\"rgba(255, 255, 255, 1.0)\",\"ticks\":\"\"},\"angularaxis\":{\"linecolor\":\"rgba(255, 255, 255, 1.0)\",\"gridcolor\":\"rgba(255, 255, 255, 1.0)\",\"ticks\":\"\"}},\"scene\":{\"xaxis\":{\"ticks\":\"\",\"linecolor\":\"rgba(255, 255, 255, 1.0)\",\"gridcolor\":\"rgba(255, 255, 255, 1.0)\",\"gridwidth\":2.0,\"zerolinecolor\":\"rgba(255, 255, 255, 1.0)\",\"backgroundcolor\":\"rgba(229, 236, 246, 1.0)\",\"showbackground\":true},\"yaxis\":{\"ticks\":\"\",\"linecolor\":\"rgba(255, 255, 255, 1.0)\",\"gridcolor\":\"rgba(255, 255, 255, 1.0)\",\"gridwidth\":2.0,\"zerolinecolor\":\"rgba(255, 255, 255, 1.0)\",\"backgroundcolor\":\"rgba(229, 236, 246, 1.0)\",\"showbackground\":true},\"zaxis\":{\"ticks\":\"\",\"linecolor\":\"rgba(255, 255, 255, 1.0)\",\"gridcolor\":\"rgba(255, 255, 255, 1.0)\",\"gridwidth\":2.0,\"zerolinecolor\":\"rgba(255, 255, 255, 1.0)\",\"backgroundcolor\":\"rgba(229, 236, 246, 1.0)\",\"showbackground\":true}},\"ternary\":{\"aaxis\":{\"ticks\":\"\",\"linecolor\":\"rgba(255, 255, 255, 1.0)\",\"gridcolor\":\"rgba(255, 255, 255, 1.0)\"},\"baxis\":{\"ticks\":\"\",\"linecolor\":\"rgba(255, 255, 255, 1.0)\",\"gridcolor\":\"rgba(255, 255, 255, 1.0)\"},\"caxis\":{\"ticks\":\"\",\"linecolor\":\"rgba(255, 255, 255, 1.0)\",\"gridcolor\":\"rgba(255, 255, 255, 1.0)\"},\"bgcolor\":\"rgba(229, 236, 246, 1.0)\"},\"xaxis\":{\"title\":{\"standoff\":15},\"ticks\":\"\",\"automargin\":\"height+width+left+right+top+bottom\",\"linecolor\":\"rgba(255, 255, 255, 1.0)\",\"gridcolor\":\"rgba(255, 255, 255, 1.0)\",\"zerolinecolor\":\"rgba(255, 255, 255, 1.0)\",\"zerolinewidth\":2.0},\"yaxis\":{\"title\":{\"standoff\":15},\"ticks\":\"\",\"automargin\":\"height+width+left+right+top+bottom\",\"linecolor\":\"rgba(255, 255, 255, 1.0)\",\"gridcolor\":\"rgba(255, 255, 255, 1.0)\",\"zerolinecolor\":\"rgba(255, 255, 255, 1.0)\",\"zerolinewidth\":2.0},\"annotationdefaults\":{\"arrowcolor\":\"#2a3f5f\",\"arrowhead\":0,\"arrowwidth\":1},\"shapedefaults\":{\"line\":{\"color\":\"rgba(42, 63, 95, 1.0)\"}},\"colorway\":[\"rgba(99, 110, 250, 1.0)\",\"rgba(239, 85, 59, 1.0)\",\"rgba(0, 204, 150, 1.0)\",\"rgba(171, 99, 250, 1.0)\",\"rgba(255, 161, 90, 1.0)\",\"rgba(25, 211, 243, 1.0)\",\"rgba(255, 102, 146, 1.0)\",\"rgba(182, 232, 128, 1.0)\",\"rgba(255, 151, 255, 1.0)\",\"rgba(254, 203, 82, 1.0)\"]},\"data\":{\"bar\":[{\"marker\":{\"line\":{\"color\":\"rgba(229, 236, 246, 1.0)\",\"width\":0.5},\"pattern\":{\"fillmode\":\"overlay\",\"size\":10,\"solidity\":0.2}},\"error_x\":{\"color\":\"rgba(42, 63, 95, 1.0)\"},\"error_y\":{\"color\":\"rgba(42, 63, 95, 1.0)\"}}],\"barpolar\":[{\"marker\":{\"line\":{\"color\":\"rgba(229, 236, 246, 1.0)\",\"width\":0.5},\"pattern\":{\"fillmode\":\"overlay\",\"size\":10,\"solidity\":0.2}}}],\"carpet\":[{\"aaxis\":{\"linecolor\":\"rgba(255, 255, 255, 1.0)\",\"gridcolor\":\"rgba(255, 255, 255, 1.0)\",\"endlinecolor\":\"rgba(42, 63, 95, 1.0)\",\"minorgridcolor\":\"rgba(255, 255, 255, 1.0)\",\"startlinecolor\":\"rgba(42, 63, 95, 1.0)\"},\"baxis\":{\"linecolor\":\"rgba(255, 255, 255, 1.0)\",\"gridcolor\":\"rgba(255, 255, 255, 1.0)\",\"endlinecolor\":\"rgba(42, 63, 95, 1.0)\",\"minorgridcolor\":\"rgba(255, 255, 255, 1.0)\",\"startlinecolor\":\"rgba(42, 63, 95, 1.0)\"}}],\"choropleth\":[{\"colorbar\":{\"outlinewidth\":0.0,\"ticks\":\"\"},\"colorscale\":[[0.0,\"#0d0887\"],[0.1111111111111111,\"#46039f\"],[0.2222222222222222,\"#7201a8\"],[0.3333333333333333,\"#9c179e\"],[0.4444444444444444,\"#bd3786\"],[0.5555555555555556,\"#d8576b\"],[0.6666666666666666,\"#ed7953\"],[0.7777777777777778,\"#fb9f3a\"],[0.8888888888888888,\"#fdca26\"],[1.0,\"#f0f921\"]]}],\"contour\":[{\"colorbar\":{\"outlinewidth\":0.0,\"ticks\":\"\"},\"colorscale\":[[0.0,\"#0d0887\"],[0.1111111111111111,\"#46039f\"],[0.2222222222222222,\"#7201a8\"],[0.3333333333333333,\"#9c179e\"],[0.4444444444444444,\"#bd3786\"],[0.5555555555555556,\"#d8576b\"],[0.6666666666666666,\"#ed7953\"],[0.7777777777777778,\"#fb9f3a\"],[0.8888888888888888,\"#fdca26\"],[1.0,\"#f0f921\"]]}],\"contourcarpet\":[{\"colorbar\":{\"outlinewidth\":0.0,\"ticks\":\"\"}}],\"heatmap\":[{\"colorbar\":{\"outlinewidth\":0.0,\"ticks\":\"\"},\"colorscale\":[[0.0,\"#0d0887\"],[0.1111111111111111,\"#46039f\"],[0.2222222222222222,\"#7201a8\"],[0.3333333333333333,\"#9c179e\"],[0.4444444444444444,\"#bd3786\"],[0.5555555555555556,\"#d8576b\"],[0.6666666666666666,\"#ed7953\"],[0.7777777777777778,\"#fb9f3a\"],[0.8888888888888888,\"#fdca26\"],[1.0,\"#f0f921\"]]}],\"heatmapgl\":[{\"colorbar\":{\"outlinewidth\":0.0,\"ticks\":\"\"},\"colorscale\":[[0.0,\"#0d0887\"],[0.1111111111111111,\"#46039f\"],[0.2222222222222222,\"#7201a8\"],[0.3333333333333333,\"#9c179e\"],[0.4444444444444444,\"#bd3786\"],[0.5555555555555556,\"#d8576b\"],[0.6666666666666666,\"#ed7953\"],[0.7777777777777778,\"#fb9f3a\"],[0.8888888888888888,\"#fdca26\"],[1.0,\"#f0f921\"]]}],\"histogram\":[{\"marker\":{\"pattern\":{\"fillmode\":\"overlay\",\"size\":10,\"solidity\":0.2}}}],\"histogram2d\":[{\"colorbar\":{\"outlinewidth\":0.0,\"ticks\":\"\"},\"colorscale\":[[0.0,\"#0d0887\"],[0.1111111111111111,\"#46039f\"],[0.2222222222222222,\"#7201a8\"],[0.3333333333333333,\"#9c179e\"],[0.4444444444444444,\"#bd3786\"],[0.5555555555555556,\"#d8576b\"],[0.6666666666666666,\"#ed7953\"],[0.7777777777777778,\"#fb9f3a\"],[0.8888888888888888,\"#fdca26\"],[1.0,\"#f0f921\"]]}],\"histogram2dcontour\":[{\"colorbar\":{\"outlinewidth\":0.0,\"ticks\":\"\"},\"colorscale\":[[0.0,\"#0d0887\"],[0.1111111111111111,\"#46039f\"],[0.2222222222222222,\"#7201a8\"],[0.3333333333333333,\"#9c179e\"],[0.4444444444444444,\"#bd3786\"],[0.5555555555555556,\"#d8576b\"],[0.6666666666666666,\"#ed7953\"],[0.7777777777777778,\"#fb9f3a\"],[0.8888888888888888,\"#fdca26\"],[1.0,\"#f0f921\"]]}],\"mesh3d\":[{\"colorbar\":{\"outlinewidth\":0.0,\"ticks\":\"\"}}],\"parcoords\":[{\"line\":{\"colorbar\":{\"outlinewidth\":0.0,\"ticks\":\"\"}}}],\"pie\":[{\"automargin\":true}],\"scatter\":[{\"marker\":{\"colorbar\":{\"outlinewidth\":0.0,\"ticks\":\"\"}}}],\"scatter3d\":[{\"marker\":{\"colorbar\":{\"outlinewidth\":0.0,\"ticks\":\"\"}},\"line\":{\"colorbar\":{\"outlinewidth\":0.0,\"ticks\":\"\"}}}],\"scattercarpet\":[{\"marker\":{\"colorbar\":{\"outlinewidth\":0.0,\"ticks\":\"\"}}}],\"scattergeo\":[{\"marker\":{\"colorbar\":{\"outlinewidth\":0.0,\"ticks\":\"\"}}}],\"scattergl\":[{\"marker\":{\"colorbar\":{\"outlinewidth\":0.0,\"ticks\":\"\"}}}],\"scattermapbox\":[{\"marker\":{\"colorbar\":{\"outlinewidth\":0.0,\"ticks\":\"\"}}}],\"scatterpolar\":[{\"marker\":{\"colorbar\":{\"outlinewidth\":0.0,\"ticks\":\"\"}}}],\"scatterpolargl\":[{\"marker\":{\"colorbar\":{\"outlinewidth\":0.0,\"ticks\":\"\"}}}],\"scatterternary\":[{\"marker\":{\"colorbar\":{\"outlinewidth\":0.0,\"ticks\":\"\"}}}],\"surface\":[{\"colorbar\":{\"outlinewidth\":0.0,\"ticks\":\"\"},\"colorscale\":[[0.0,\"#0d0887\"],[0.1111111111111111,\"#46039f\"],[0.2222222222222222,\"#7201a8\"],[0.3333333333333333,\"#9c179e\"],[0.4444444444444444,\"#bd3786\"],[0.5555555555555556,\"#d8576b\"],[0.6666666666666666,\"#ed7953\"],[0.7777777777777778,\"#fb9f3a\"],[0.8888888888888888,\"#fdca26\"],[1.0,\"#f0f921\"]]}],\"table\":[{\"cells\":{\"fill\":{\"color\":\"rgba(235, 240, 248, 1.0)\"},\"line\":{\"color\":\"rgba(255, 255, 255, 1.0)\"}},\"header\":{\"fill\":{\"color\":\"rgba(200, 212, 227, 1.0)\"},\"line\":{\"color\":\"rgba(255, 255, 255, 1.0)\"}}}]}},\"title\":{\"text\":\"Heatmap - Coldstress Experiment - 15 Minutes & 4 Days\"},\"margin\":{\"l\":200,\"r\":200,\"b\":200}};\n",
       "        var config = {\"responsive\":true};\n",
       "        Plotly.newPlot('0ba738e4-4375-49cd-90df-04c9a1ca439f', data, layout, config);\n",
       "    });\n",
       "};\n",
       "if ((typeof(requirejs) !==  typeof(Function)) || (typeof(requirejs.config) !== typeof(Function))) {\n",
       "    var script = document.createElement(\"script\");\n",
       "    script.setAttribute(\"charset\", \"utf-8\");\n",
       "    script.setAttribute(\"src\", \"https://cdnjs.cloudflare.com/ajax/libs/require.js/2.3.6/require.min.js\");\n",
       "    script.onload = function(){\n",
       "        renderPlotly_0ba738e4437549cd90df04c9a1ca439f();\n",
       "    };\n",
       "    document.getElementsByTagName(\"head\")[0].appendChild(script);\n",
       "}\n",
       "else {\n",
       "    renderPlotly_0ba738e4437549cd90df04c9a1ca439f();\n",
       "}\n",
       "</script></div>"
      ]
     },
     "metadata": {},
     "output_type": "display_data"
    }
   ],
   "source": [
    "let matrixToJaggedArray = \n",
    "    pearsonCorrelationMatrix3\n",
    "    |> Matrix.toJaggedArray\n",
    "let HeatMap = \n",
    "    Chart.Heatmap (zData = matrixToJaggedArray, colNames = [\"15_minutes_R_1\"; \"15_minutes_R_2\"; \"15_minutes_R_3\"; \"4_days_R_1\"; \"4_days_R_2\"; \"4_days_R_3\"], rowNames = [\"15_minutes_R_1\"; \"15_minutes_R_2\"; \"15_minutes_R_3\"; \"4_days_R_1\"; \"4_days_R_2\"; \"4_days_R_3\"] )\n",
    "\n",
    "let StylingHeatMap = \n",
    "    HeatMap\n",
    "    |> Chart.withTitle (\"Heatmap - Coldstress Experiment - 15 Minutes & 4 Days\")\n",
    "    |> Chart.withSize(1000,900)\n",
    "    |> Chart.withMarginSize(Bottom = 200, Right = 200, Left = 200)\n",
    "StylingHeatMap\n",
    "\n"
   ]
  },
  {
   "cell_type": "markdown",
   "metadata": {},
   "source": [
    "# Interpreting the visualisation\n",
    "Looks cool huh? But now let's move on to the interpretation.\n",
    "\n",
    "\n",
    "If we take a closer look, we will notice a lot of boxes that correspond either to the yellow-orange tones or the blue tones. \n",
    "What we see here is quiete simple. \n",
    "On X- and Y-Axis we have our six Columns: \n",
    "1. Three replicates for minute 15\n",
    "2. Three replicates for 4 days  \n",
    "\n",
    "and now we see here coded in colors what the Pearson correlation coefficient does. \n",
    "\n",
    "Lets start in the left bottom corner with 15_minutes_R_1. When we look at the legend we see that this field corresponds to the value 1 wich is the best value we can get. This is because here were the values of 15_minutes_R_1 compared with itself, as the values are identical this results in a maximum Pearson correlation coefficient. \n",
    "\n",
    "If we move to 15_minutes_R_2, we see from the colour here, this box is assigned a value of 0.97. This result is also a high Pearson correlation coefficient, so that means the results are very similar to each other. But what was compared here? Quite simply 15_minutes_R_1 with 15_minutes_R_2.\n",
    "\n",
    "\n",
    "\n",
    "\n",
    "\n",
    "\n",
    "\n",
    "Now let's take a look at 4_days_R_1. What is immediately noticeable here is that it is blue and therefore corresponds to a value of 0.88. \n",
    "\n",
    "In our case, this tells us that 4_days_R_1 is less similar to 15_minutes_R_1\n",
    "\n",
    "This box is the result of the comparison between 15_minutes_R_1 and 4_days_R_1, but why is there such a difference here? Because we are working with replicates - 15_minutes_R_1 was measured at 15 minutes and 4_days_R_1 at 5760 minutes.\n",
    "\n",
    "\n",
    "\n",
    "# Conclusion \n",
    "We generally assume that *A. thaliana* changes its behaviour when the plant comes into contact with the cold. For this we used a method called RNA-Seq. We compared two replicate groups at different time points and expected our replicate groups to differ. To do this, we calculated the Pearson correlation coefficient and created a heat map.\n",
    "\n",
    "## Results \n",
    "The Pearson correlation matrix and the associated heat map show that there are some differences between the replicate groups. \n",
    "However, these differences are small. \n",
    "The differences within the individual replicate groups are also small. \n",
    "These small differences between and within the replicate groups indicate a linear relationship both between the replicate groups and between the individual replicates within the groups. \n",
    "This leads to the conclusion that the replicate groups and the individual replicates within these groups have a high consistency and similarity. This suggests that the data are robust and reliable, which is important for further analyses and interpretations. \n",
    "\n",
    "\n",
    "\n",
    "\n",
    "\n"
   ]
  }
 ],
 "metadata": {
  "kernelspec": {
   "display_name": ".NET (C#)",
   "language": "C#",
   "name": ".net-csharp"
  },
  "language_info": {
   "name": "polyglot-notebook"
  },
  "polyglot_notebook": {
   "kernelInfo": {
    "defaultKernelName": "csharp",
    "items": [
     {
      "aliases": [],
      "name": "csharp"
     },
     {
      "aliases": [],
      "languageName": "fsharp",
      "name": "fsharp"
     }
    ]
   }
  }
 },
 "nbformat": 4,
 "nbformat_minor": 2
}
