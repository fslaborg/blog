{
 "cells": [
  {
   "attachments": {},
   "cell_type": "markdown",
   "metadata": {
    "dotnet_interactive": {
     "language": "fsharp"
    },
    "language_info": {
     "name": "F#"
    },
    "polyglot_notebook": {
     "kernelName": "fsharp"
    }
   },
   "source": [
    "# Getting started\n",
    "\n",
    "Glad to see you here! Now that you found out and learned about FsLab, this section aims to illustrate how FsLab packages synergize and can be used to tackle\n",
    "practical data science challenges. Note that every package used througout the tutorial has its own documentation so if you are interested in Deedle (link), FSharp.Stats or Plotly.Net feel free to take a deeper dive.\n",
    "\n",
    "## Referencing packages\n",
    "\n",
    "FsLab is a meant to be a project incubation space and can be thought of as a safe heaven for both, package developers and package users by providing guidelines and tutorials. Packages provided by the community can be used on their own, in combination with other FsLab packages but also in combination with any other .netstandard 2.0 compatible package. From F# 5.0 on packages can be referenced using the following notation:\n"
   ]
  },
  {
   "cell_type": "code",
   "execution_count": 1,
   "metadata": {
    "dotnet_interactive": {
     "language": "fsharp"
    },
    "polyglot_notebook": {
     "kernelName": "fsharp"
    },
    "vscode": {
     "languageId": "dotnet-interactive.fsharp"
    }
   },
   "outputs": [
    {
     "data": {
      "text/html": [
       "<div><div></div><div></div><div><strong>Installed Packages</strong><ul><li><span>Deedle.Interactive, 3.0.0</span></li><li><span>FSharp.Data, 6.3.0</span></li><li><span>FSharp.Stats, 0.5.0</span></li><li><span>FSharpAux, 2.0.0</span></li><li><span>Plotly.NET.Interactive, 4.0.0</span></li></ul></div></div>"
      ]
     },
     "metadata": {},
     "output_type": "display_data"
    },
    {
     "data": {
      "text/markdown": [
       "Loading extensions from `Plotly.NET.Interactive.dll`"
      ]
     },
     "metadata": {},
     "output_type": "display_data"
    },
    {
     "data": {
      "text/markdown": [
       "Loading extensions from `Deedle.Interactive.dll`"
      ]
     },
     "metadata": {},
     "output_type": "display_data"
    }
   ],
   "source": [
    "// Packages hosted by the Fslab community\n",
    "#r \"nuget: Deedle.Interactive, 3.0.0\"\n",
    "#r \"nuget: FSharp.Stats\"\n",
    "// third party .net packages \n",
    "#r \"nuget: Plotly.NET.Interactive, 4.0.0\"\n",
    "#r \"nuget: FSharpAux\"\n",
    "#r \"nuget: FSharp.Data\""
   ]
  },
  {
   "attachments": {},
   "cell_type": "markdown",
   "metadata": {
    "dotnet_interactive": {
     "language": "fsharp"
    },
    "polyglot_notebook": {
     "kernelName": "fsharp"
    }
   },
   "source": [
    "After referencing the packages one can access their namespaces and use provided functions. In the following example we will reference the\n",
    "top level namespaces and then use a function provided by the FSharp.Stats package to calculate a factorial:\n"
   ]
  },
  {
   "cell_type": "code",
   "execution_count": 2,
   "metadata": {
    "dotnet_interactive": {
     "language": "fsharp"
    },
    "polyglot_notebook": {
     "kernelName": "fsharp"
    },
    "vscode": {
     "languageId": "dotnet-interactive.fsharp"
    }
   },
   "outputs": [
    {
     "data": {
      "text/html": [
       "<div class=\"dni-plaintext\">6</div>"
      ]
     },
     "metadata": {},
     "output_type": "display_data"
    }
   ],
   "source": [
    "open FSharp.Stats\n",
    "\n",
    "SpecialFunctions.Factorial.factorial 3"
   ]
  },
  {
   "attachments": {},
   "cell_type": "markdown",
   "metadata": {
    "dotnet_interactive": {
     "language": "fsharp"
    },
    "polyglot_notebook": {
     "kernelName": "fsharp"
    }
   },
   "source": [
    "Equipped with these packages we are now ready to tackle the promise made in the first paragraph: solving a practical data science problem. We will start by retrieving the data using the FSharp.Data package. Subsequently, we will use Deedle (link), a powerful data frame library that makes tabular data accessible by data frame programming. (Note that the chosen names give insight on their type. In addition, thanks to FSharp being a strongly typed language and the type inference done by the compiler, we can at any time hower over a value to see its assigned type.)\n"
   ]
  },
  {
   "cell_type": "code",
   "execution_count": 3,
   "metadata": {
    "dotnet_interactive": {
     "language": "fsharp"
    },
    "polyglot_notebook": {
     "kernelName": "fsharp"
    },
    "vscode": {
     "languageId": "dotnet-interactive.fsharp"
    }
   },
   "outputs": [
    {
     "data": {
      "text/html": [
       "<div>\r\n",
       "<style scoped>,\r\n",
       "  .dataframe tbody tr th:only-of-type {\r\n",
       "    vertical-align: middle;\r\n",
       "  }\r\n",
       "  .dataframe tbody tr th {,\r\n",
       "    vertical-align: top\r\n",
       "  }\r\n",
       "  .dataframe thead th {\r\n",
       "    text-align: right;\r\n",
       "  }\r\n",
       "  .no-wrap {\r\n",
       "    white-space: nowrap;\r\n",
       "  }\r\n",
       "</style>\r\n",
       "<table border='1' class='dataframe'>\r\n",
       "<thead><th></th><th></th><th>MedianHomeValue</th><th>CrimesPerCapita</th><th>PercentResidental</th><th>PercentNonRetail</th><th>CharlesRiver</th><th>NitricOxides</th><th>RoomsPerDwelling</th><th>PercentPre40s</th><th>EmploymentDistance</th><th>HighwayDistance</th><th>TaxRate</th><th>TeacherRatio</th><th>BlackIndex</th><th>PercentLowIncome</th></thead><thead><th></th><th></th><th>(Decimal)</th><th>(Decimal)</th><th>(Decimal)</th><th>(Decimal)</th><th>(int)</th><th>(Decimal)</th><th>(Decimal)</th><th>(Decimal)</th><th>(Decimal)</th><th>(int)</th><th>(Decimal)</th><th>(Decimal)</th><th>(Decimal)</th><th>(Decimal)</th></thead>\r\n",
       "<tr><td><b>0</b></td><td class=\"no-wrap\">-></td><td>24.00</td><td>0.00632</td><td>18.00</td><td>2.310</td><td>0</td><td>0.5380</td><td>6.5750</td><td>65.20</td><td>4.0900</td><td>1</td><td>296.0</td><td>15.30</td><td>396.90</td><td>4.98</td></tr><tr><td><b>1</b></td><td class=\"no-wrap\">-></td><td>21.60</td><td>0.02731</td><td>0.00</td><td>7.070</td><td>0</td><td>0.4690</td><td>6.4210</td><td>78.90</td><td>4.9671</td><td>2</td><td>242.0</td><td>17.80</td><td>396.90</td><td>9.14</td></tr><tr><td><b>2</b></td><td class=\"no-wrap\">-></td><td>34.70</td><td>0.02729</td><td>0.00</td><td>7.070</td><td>0</td><td>0.4690</td><td>7.1850</td><td>61.10</td><td>4.9671</td><td>2</td><td>242.0</td><td>17.80</td><td>392.83</td><td>4.03</td></tr><tr><td><b>3</b></td><td class=\"no-wrap\">-></td><td>33.40</td><td>0.03237</td><td>0.00</td><td>2.180</td><td>0</td><td>0.4580</td><td>6.9980</td><td>45.80</td><td>6.0622</td><td>3</td><td>222.0</td><td>18.70</td><td>394.63</td><td>2.94</td></tr><tr><td><b>4</b></td><td class=\"no-wrap\">-></td><td>36.20</td><td>0.06905</td><td>0.00</td><td>2.180</td><td>0</td><td>0.4580</td><td>7.1470</td><td>54.20</td><td>6.0622</td><td>3</td><td>222.0</td><td>18.70</td><td>396.90</td><td>5.33</td></tr><tr><td><b>:</b></td><td class=\"no-wrap\"></td><td>...</td><td>...</td><td>...</td><td>...</td><td>...</td><td>...</td><td>...</td><td>...</td><td>...</td><td>...</td><td>...</td><td>...</td><td>...</td><td>...</td></tr><tr><td><b>501</b></td><td class=\"no-wrap\">-></td><td>22.40</td><td>0.06263</td><td>0.00</td><td>11.930</td><td>0</td><td>0.5730</td><td>6.5930</td><td>69.10</td><td>2.4786</td><td>1</td><td>273.0</td><td>21.00</td><td>391.99</td><td>9.67</td></tr><tr><td><b>502</b></td><td class=\"no-wrap\">-></td><td>20.60</td><td>0.04527</td><td>0.00</td><td>11.930</td><td>0</td><td>0.5730</td><td>6.1200</td><td>76.70</td><td>2.2875</td><td>1</td><td>273.0</td><td>21.00</td><td>396.90</td><td>9.08</td></tr><tr><td><b>503</b></td><td class=\"no-wrap\">-></td><td>23.90</td><td>0.06076</td><td>0.00</td><td>11.930</td><td>0</td><td>0.5730</td><td>6.9760</td><td>91.00</td><td>2.1675</td><td>1</td><td>273.0</td><td>21.00</td><td>396.90</td><td>5.64</td></tr><tr><td><b>504</b></td><td class=\"no-wrap\">-></td><td>22.00</td><td>0.10959</td><td>0.00</td><td>11.930</td><td>0</td><td>0.5730</td><td>6.7940</td><td>89.30</td><td>2.3889</td><td>1</td><td>273.0</td><td>21.00</td><td>393.45</td><td>6.48</td></tr><tr><td><b>505</b></td><td class=\"no-wrap\">-></td><td>11.90</td><td>0.04741</td><td>0.00</td><td>11.930</td><td>0</td><td>0.5730</td><td>6.0300</td><td>80.80</td><td>2.5050</td><td>1</td><td>273.0</td><td>21.00</td><td>396.90</td><td>7.88</td></tr>\r\n",
       "</table>\r\n",
       "<p><b>506</b> rows x <b>14</b> columns</p><p><b>0</b> missing values</p>\r\n",
       "</div>\r\n"
      ]
     },
     "metadata": {},
     "output_type": "display_data"
    }
   ],
   "source": [
    "open FSharp.Data\n",
    "open Deedle\n",
    "\n",
    "// Retrieve data using the FSharp.Data package\n",
    "let rawData = Http.RequestString @\"https://raw.githubusercontent.com/dotnet/machinelearning/master/test/data/housing.txt\"\n",
    "\n",
    "// And create a data frame object using the ReadCsvString method provided by Deedle.\n",
    "// Note: Of course you can directly provide the path to a local source.\n",
    "let df = Frame.ReadCsvString(rawData,hasHeaders=true,separators=\"\\t\")\n",
    "\n",
    "df\n",
    "\n",
    "// Note: If you are working outside of a notebook, you may want to print the dataframe using\n",
    "// df.Print true\n",
    "\n"
   ]
  },
  {
   "attachments": {},
   "cell_type": "markdown",
   "metadata": {
    "dotnet_interactive": {
     "language": "fsharp"
    },
    "polyglot_notebook": {
     "kernelName": "fsharp"
    }
   },
   "source": [
    "## Data crunching\n",
    "The data set of choice is the boston housing data set. As you can see from analyzing the printed output, it consists of 506 rows. Each row represents a house in the boston city area and each column encodes a feature/variable, such as the number of rooms per dwelling (RoomsPerDwelling), Median value of owner-occupied homes in $1000's (MedianHomeValue) and even variables indicating if the house is bordering river charles (CharlesRiver, value = 1) or not (CharlesRiver, value = 0). \n",
    "\n",
    "Lets say in our analysis we are only interested in the variables just described, furthermore we only want to keep rows for houses that do NOT border the river. We can use Deedle to easily create a new frame that fullfills our criteria. In this example, we cast the value of the column \"CharlesRiver\" to be of type bool, which illustrates how data frame programming can become typesafe using deedle.\n"
   ]
  },
  {
   "cell_type": "code",
   "execution_count": 4,
   "metadata": {
    "dotnet_interactive": {
     "language": "fsharp"
    },
    "polyglot_notebook": {
     "kernelName": "fsharp"
    },
    "vscode": {
     "languageId": "dotnet-interactive.fsharp"
    }
   },
   "outputs": [
    {
     "data": {
      "text/html": [
       "<div>\r\n",
       "<style scoped>,\r\n",
       "  .dataframe tbody tr th:only-of-type {\r\n",
       "    vertical-align: middle;\r\n",
       "  }\r\n",
       "  .dataframe tbody tr th {,\r\n",
       "    vertical-align: top\r\n",
       "  }\r\n",
       "  .dataframe thead th {\r\n",
       "    text-align: right;\r\n",
       "  }\r\n",
       "  .no-wrap {\r\n",
       "    white-space: nowrap;\r\n",
       "  }\r\n",
       "</style>\r\n",
       "<table border='1' class='dataframe'>\r\n",
       "<thead><th></th><th></th><th>RoomsPerDwelling</th><th>MedianHomeValue</th><th>CharlesRiver</th></thead><thead><th></th><th></th><th>(Decimal)</th><th>(Decimal)</th><th>(int)</th></thead>\r\n",
       "<tr><td><b>0</b></td><td class=\"no-wrap\">-></td><td>6.5750</td><td>24.00</td><td>0</td></tr><tr><td><b>1</b></td><td class=\"no-wrap\">-></td><td>6.4210</td><td>21.60</td><td>0</td></tr><tr><td><b>2</b></td><td class=\"no-wrap\">-></td><td>7.1850</td><td>34.70</td><td>0</td></tr><tr><td><b>3</b></td><td class=\"no-wrap\">-></td><td>6.9980</td><td>33.40</td><td>0</td></tr><tr><td><b>4</b></td><td class=\"no-wrap\">-></td><td>7.1470</td><td>36.20</td><td>0</td></tr><tr><td><b>:</b></td><td class=\"no-wrap\"></td><td>...</td><td>...</td><td>...</td></tr><tr><td><b>501</b></td><td class=\"no-wrap\">-></td><td>6.5930</td><td>22.40</td><td>0</td></tr><tr><td><b>502</b></td><td class=\"no-wrap\">-></td><td>6.1200</td><td>20.60</td><td>0</td></tr><tr><td><b>503</b></td><td class=\"no-wrap\">-></td><td>6.9760</td><td>23.90</td><td>0</td></tr><tr><td><b>504</b></td><td class=\"no-wrap\">-></td><td>6.7940</td><td>22.00</td><td>0</td></tr><tr><td><b>505</b></td><td class=\"no-wrap\">-></td><td>6.0300</td><td>11.90</td><td>0</td></tr>\r\n",
       "</table>\r\n",
       "<p><b>471</b> rows x <b>3</b> columns</p><p><b>0</b> missing values</p>\r\n",
       "</div>\r\n"
      ]
     },
     "metadata": {},
     "output_type": "display_data"
    }
   ],
   "source": [
    "let housesNotAtRiver = \n",
    "    df\n",
    "    |> Frame.sliceCols [\"RoomsPerDwelling\";\"MedianHomeValue\";\"CharlesRiver\"]\n",
    "    |> Frame.filterRowValues (fun s -> s.GetAs<bool>(\"CharlesRiver\") |> not ) \n",
    "\n",
    "housesNotAtRiver"
   ]
  },
  {
   "attachments": {},
   "cell_type": "markdown",
   "metadata": {
    "dotnet_interactive": {
     "language": "fsharp"
    },
    "polyglot_notebook": {
     "kernelName": "fsharp"
    }
   },
   "source": [
    "## Data exploration\n",
    "\n",
    "Exploratory data analysis is an approach favored by many - to meet this demand we strongly advertise the use of Plotly.Net. The following snippet illustrates how we can access a column of a data frame and create an interactive chart in no time. Since we might want an idea of the distribution of the house prices a histogram can come in handy: \n"
   ]
  },
  {
   "cell_type": "code",
   "execution_count": 5,
   "metadata": {
    "dotnet_interactive": {
     "language": "fsharp"
    },
    "polyglot_notebook": {
     "kernelName": "fsharp"
    },
    "vscode": {
     "languageId": "dotnet-interactive.fsharp"
    }
   },
   "outputs": [
    {
     "data": {
      "text/html": [
       "<div><div id=\"29618998-695e-416b-a6cf-50c9ca89985b\"><!-- Plotly chart will be drawn inside this DIV --></div><script type=\"text/javascript\">\r\n",
       "var renderPlotly_29618998695e416ba6cf50c9ca89985b = function() {\r\n",
       "    var fsharpPlotlyRequire = requirejs.config({context:'fsharp-plotly',paths:{plotly:'https://cdn.plot.ly/plotly-2.18.1.min'}}) || require;\r\n",
       "    fsharpPlotlyRequire(['plotly'], function(Plotly) {\r\n",
       "        var data = [{\"type\":\"histogram\",\"x\":[24.0,21.6,34.7,33.4,36.2,28.7,22.9,27.1,16.5,18.9,15.0,18.9,21.7,20.4,18.2,19.9,23.1,17.5,20.2,18.2,13.6,19.6,15.2,14.5,15.6,13.9,16.6,14.8,18.4,21.0,12.7,14.5,13.2,13.1,13.5,18.9,20.0,21.0,24.7,30.8,34.9,26.6,25.3,24.7,21.2,19.3,20.0,16.6,14.4,19.4,19.7,20.5,25.0,23.4,18.9,35.4,24.7,31.6,23.3,19.6,18.7,16.0,22.2,25.0,33.0,23.5,19.4,22.0,17.4,20.9,24.2,21.7,22.8,23.4,24.1,21.4,20.0,20.8,21.2,20.3,28.0,23.9,24.8,22.9,23.9,26.6,22.5,22.2,23.6,28.7,22.6,22.0,22.9,25.0,20.6,28.4,21.4,38.7,43.8,33.2,27.5,26.5,18.6,19.3,20.1,19.5,19.5,20.4,19.8,19.4,21.7,22.8,18.8,18.7,18.5,18.3,21.2,19.2,20.4,19.3,22.0,20.3,20.5,17.3,18.8,21.4,15.7,16.2,18.0,14.3,19.2,19.6,23.0,18.4,15.6,18.1,17.4,17.1,13.3,17.8,14.0,14.4,15.6,11.8,13.8,15.6,14.6,17.8,15.4,21.5,19.6,19.4,13.1,41.3,24.3,23.3,50.0,22.7,25.0,50.0,23.8,23.8,22.3,17.4,19.1,23.1,23.6,22.6,29.4,23.2,24.6,29.9,37.2,39.8,36.2,37.9,32.5,26.4,29.6,50.0,32.0,29.8,34.9,37.0,30.5,36.4,31.1,29.1,50.0,33.3,30.3,34.6,34.9,32.9,24.1,42.3,48.5,50.0,22.6,24.4,22.5,28.1,23.7,25.0,28.7,30.1,44.8,50.0,37.6,31.6,46.7,31.5,24.3,31.7,41.7,48.3,24.0,31.5,23.7,23.3,22.0,20.1,22.2,23.7,17.6,18.5,24.3,20.5,24.5,26.2,24.4,24.8,29.6,42.8,21.9,20.9,44.0,50.0,36.0,30.1,33.8,43.1,48.8,31.0,36.5,22.8,30.7,50.0,43.5,21.1,25.2,24.4,32.0,29.1,35.1,45.4,35.4,32.2,22.0,20.1,23.2,22.3,24.8,28.5,37.3,27.9,23.9,21.7,28.6,27.1,20.3,22.5,29.0,24.8,22.0,26.4,33.1,36.1,28.4,33.4,28.2,22.8,20.3,16.1,22.1,19.4,21.6,23.8,16.2,17.8,19.8,23.1,21.0,23.8,23.1,20.4,18.5,25.0,24.6,23.0,22.2,19.3,22.6,19.8,17.1,19.4,22.2,20.7,21.1,19.5,18.5,20.6,19.0,18.7,32.7,16.5,23.9,31.2,17.5,17.2,23.1,24.5,26.6,22.9,24.1,18.6,30.1,18.2,20.6,22.6,25.0,19.9,20.8,27.5,21.9,23.1,50.0,50.0,13.8,13.8,15.0,13.9,13.3,13.1,10.2,10.4,10.9,11.3,12.3,8.8,7.2,10.5,7.4,10.2,11.5,15.1,23.2,9.7,13.8,12.7,13.1,12.5,8.5,5.0,6.3,5.6,7.2,12.1,8.3,8.5,5.0,11.9,27.9,17.2,27.5,15.0,17.2,17.9,16.3,7.0,7.2,7.5,10.4,8.8,8.4,16.7,14.2,20.8,13.4,11.7,8.3,10.2,10.9,11.0,9.5,14.5,14.1,16.1,14.3,11.7,13.4,9.6,8.7,8.4,12.8,10.5,17.1,18.4,15.4,10.8,11.8,14.9,12.6,14.1,13.0,13.4,15.2,16.1,17.8,14.9,14.1,12.7,13.5,14.9,20.0,16.4,17.7,19.5,20.2,21.4,19.9,19.0,19.1,19.1,20.1,19.9,19.6,23.2,29.8,13.8,13.3,16.7,12.0,14.6,21.4,23.0,23.7,25.0,21.8,20.6,21.2,19.1,20.6,15.2,7.0,8.1,13.6,20.1,21.8,24.5,23.1,19.7,18.3,21.2,17.5,16.8,22.4,20.6,23.9,22.0,11.9],\"marker\":{\"pattern\":{}}}];\r\n",
       "        var layout = {\"width\":600,\"height\":600,\"template\":{\"layout\":{\"title\":{\"x\":0.05},\"font\":{\"color\":\"rgba(42, 63, 95, 1.0)\"},\"paper_bgcolor\":\"rgba(255, 255, 255, 1.0)\",\"plot_bgcolor\":\"rgba(229, 236, 246, 1.0)\",\"autotypenumbers\":\"strict\",\"colorscale\":{\"diverging\":[[0.0,\"#8e0152\"],[0.1,\"#c51b7d\"],[0.2,\"#de77ae\"],[0.3,\"#f1b6da\"],[0.4,\"#fde0ef\"],[0.5,\"#f7f7f7\"],[0.6,\"#e6f5d0\"],[0.7,\"#b8e186\"],[0.8,\"#7fbc41\"],[0.9,\"#4d9221\"],[1.0,\"#276419\"]],\"sequential\":[[0.0,\"#0d0887\"],[0.1111111111111111,\"#46039f\"],[0.2222222222222222,\"#7201a8\"],[0.3333333333333333,\"#9c179e\"],[0.4444444444444444,\"#bd3786\"],[0.5555555555555556,\"#d8576b\"],[0.6666666666666666,\"#ed7953\"],[0.7777777777777778,\"#fb9f3a\"],[0.8888888888888888,\"#fdca26\"],[1.0,\"#f0f921\"]],\"sequentialminus\":[[0.0,\"#0d0887\"],[0.1111111111111111,\"#46039f\"],[0.2222222222222222,\"#7201a8\"],[0.3333333333333333,\"#9c179e\"],[0.4444444444444444,\"#bd3786\"],[0.5555555555555556,\"#d8576b\"],[0.6666666666666666,\"#ed7953\"],[0.7777777777777778,\"#fb9f3a\"],[0.8888888888888888,\"#fdca26\"],[1.0,\"#f0f921\"]]},\"hovermode\":\"closest\",\"hoverlabel\":{\"align\":\"left\"},\"coloraxis\":{\"colorbar\":{\"outlinewidth\":0.0,\"ticks\":\"\"}},\"geo\":{\"showland\":true,\"landcolor\":\"rgba(229, 236, 246, 1.0)\",\"showlakes\":true,\"lakecolor\":\"rgba(255, 255, 255, 1.0)\",\"subunitcolor\":\"rgba(255, 255, 255, 1.0)\",\"bgcolor\":\"rgba(255, 255, 255, 1.0)\"},\"mapbox\":{\"style\":\"light\"},\"polar\":{\"bgcolor\":\"rgba(229, 236, 246, 1.0)\",\"radialaxis\":{\"linecolor\":\"rgba(255, 255, 255, 1.0)\",\"gridcolor\":\"rgba(255, 255, 255, 1.0)\",\"ticks\":\"\"},\"angularaxis\":{\"linecolor\":\"rgba(255, 255, 255, 1.0)\",\"gridcolor\":\"rgba(255, 255, 255, 1.0)\",\"ticks\":\"\"}},\"scene\":{\"xaxis\":{\"ticks\":\"\",\"linecolor\":\"rgba(255, 255, 255, 1.0)\",\"gridcolor\":\"rgba(255, 255, 255, 1.0)\",\"gridwidth\":2.0,\"zerolinecolor\":\"rgba(255, 255, 255, 1.0)\",\"backgroundcolor\":\"rgba(229, 236, 246, 1.0)\",\"showbackground\":true},\"yaxis\":{\"ticks\":\"\",\"linecolor\":\"rgba(255, 255, 255, 1.0)\",\"gridcolor\":\"rgba(255, 255, 255, 1.0)\",\"gridwidth\":2.0,\"zerolinecolor\":\"rgba(255, 255, 255, 1.0)\",\"backgroundcolor\":\"rgba(229, 236, 246, 1.0)\",\"showbackground\":true},\"zaxis\":{\"ticks\":\"\",\"linecolor\":\"rgba(255, 255, 255, 1.0)\",\"gridcolor\":\"rgba(255, 255, 255, 1.0)\",\"gridwidth\":2.0,\"zerolinecolor\":\"rgba(255, 255, 255, 1.0)\",\"backgroundcolor\":\"rgba(229, 236, 246, 1.0)\",\"showbackground\":true}},\"ternary\":{\"aaxis\":{\"ticks\":\"\",\"linecolor\":\"rgba(255, 255, 255, 1.0)\",\"gridcolor\":\"rgba(255, 255, 255, 1.0)\"},\"baxis\":{\"ticks\":\"\",\"linecolor\":\"rgba(255, 255, 255, 1.0)\",\"gridcolor\":\"rgba(255, 255, 255, 1.0)\"},\"caxis\":{\"ticks\":\"\",\"linecolor\":\"rgba(255, 255, 255, 1.0)\",\"gridcolor\":\"rgba(255, 255, 255, 1.0)\"},\"bgcolor\":\"rgba(229, 236, 246, 1.0)\"},\"xaxis\":{\"title\":{\"standoff\":15},\"ticks\":\"\",\"automargin\":\"height+width+left+right+top+bottom\",\"linecolor\":\"rgba(255, 255, 255, 1.0)\",\"gridcolor\":\"rgba(255, 255, 255, 1.0)\",\"zerolinecolor\":\"rgba(255, 255, 255, 1.0)\",\"zerolinewidth\":2.0},\"yaxis\":{\"title\":{\"standoff\":15},\"ticks\":\"\",\"automargin\":\"height+width+left+right+top+bottom\",\"linecolor\":\"rgba(255, 255, 255, 1.0)\",\"gridcolor\":\"rgba(255, 255, 255, 1.0)\",\"zerolinecolor\":\"rgba(255, 255, 255, 1.0)\",\"zerolinewidth\":2.0},\"annotationdefaults\":{\"arrowcolor\":\"#2a3f5f\",\"arrowhead\":0,\"arrowwidth\":1},\"shapedefaults\":{\"line\":{\"color\":\"rgba(42, 63, 95, 1.0)\"}},\"colorway\":[\"rgba(99, 110, 250, 1.0)\",\"rgba(239, 85, 59, 1.0)\",\"rgba(0, 204, 150, 1.0)\",\"rgba(171, 99, 250, 1.0)\",\"rgba(255, 161, 90, 1.0)\",\"rgba(25, 211, 243, 1.0)\",\"rgba(255, 102, 146, 1.0)\",\"rgba(182, 232, 128, 1.0)\",\"rgba(255, 151, 255, 1.0)\",\"rgba(254, 203, 82, 1.0)\"]},\"data\":{\"bar\":[{\"marker\":{\"line\":{\"color\":\"rgba(229, 236, 246, 1.0)\",\"width\":0.5},\"pattern\":{\"fillmode\":\"overlay\",\"size\":10,\"solidity\":0.2}},\"error_x\":{\"color\":\"rgba(42, 63, 95, 1.0)\"},\"error_y\":{\"color\":\"rgba(42, 63, 95, 1.0)\"}}],\"barpolar\":[{\"marker\":{\"line\":{\"color\":\"rgba(229, 236, 246, 1.0)\",\"width\":0.5},\"pattern\":{\"fillmode\":\"overlay\",\"size\":10,\"solidity\":0.2}}}],\"carpet\":[{\"aaxis\":{\"linecolor\":\"rgba(255, 255, 255, 1.0)\",\"gridcolor\":\"rgba(255, 255, 255, 1.0)\",\"endlinecolor\":\"rgba(42, 63, 95, 1.0)\",\"minorgridcolor\":\"rgba(255, 255, 255, 1.0)\",\"startlinecolor\":\"rgba(42, 63, 95, 1.0)\"},\"baxis\":{\"linecolor\":\"rgba(255, 255, 255, 1.0)\",\"gridcolor\":\"rgba(255, 255, 255, 1.0)\",\"endlinecolor\":\"rgba(42, 63, 95, 1.0)\",\"minorgridcolor\":\"rgba(255, 255, 255, 1.0)\",\"startlinecolor\":\"rgba(42, 63, 95, 1.0)\"}}],\"choropleth\":[{\"colorbar\":{\"outlinewidth\":0.0,\"ticks\":\"\"},\"colorscale\":[[0.0,\"#0d0887\"],[0.1111111111111111,\"#46039f\"],[0.2222222222222222,\"#7201a8\"],[0.3333333333333333,\"#9c179e\"],[0.4444444444444444,\"#bd3786\"],[0.5555555555555556,\"#d8576b\"],[0.6666666666666666,\"#ed7953\"],[0.7777777777777778,\"#fb9f3a\"],[0.8888888888888888,\"#fdca26\"],[1.0,\"#f0f921\"]]}],\"contour\":[{\"colorbar\":{\"outlinewidth\":0.0,\"ticks\":\"\"},\"colorscale\":[[0.0,\"#0d0887\"],[0.1111111111111111,\"#46039f\"],[0.2222222222222222,\"#7201a8\"],[0.3333333333333333,\"#9c179e\"],[0.4444444444444444,\"#bd3786\"],[0.5555555555555556,\"#d8576b\"],[0.6666666666666666,\"#ed7953\"],[0.7777777777777778,\"#fb9f3a\"],[0.8888888888888888,\"#fdca26\"],[1.0,\"#f0f921\"]]}],\"contourcarpet\":[{\"colorbar\":{\"outlinewidth\":0.0,\"ticks\":\"\"}}],\"heatmap\":[{\"colorbar\":{\"outlinewidth\":0.0,\"ticks\":\"\"},\"colorscale\":[[0.0,\"#0d0887\"],[0.1111111111111111,\"#46039f\"],[0.2222222222222222,\"#7201a8\"],[0.3333333333333333,\"#9c179e\"],[0.4444444444444444,\"#bd3786\"],[0.5555555555555556,\"#d8576b\"],[0.6666666666666666,\"#ed7953\"],[0.7777777777777778,\"#fb9f3a\"],[0.8888888888888888,\"#fdca26\"],[1.0,\"#f0f921\"]]}],\"heatmapgl\":[{\"colorbar\":{\"outlinewidth\":0.0,\"ticks\":\"\"},\"colorscale\":[[0.0,\"#0d0887\"],[0.1111111111111111,\"#46039f\"],[0.2222222222222222,\"#7201a8\"],[0.3333333333333333,\"#9c179e\"],[0.4444444444444444,\"#bd3786\"],[0.5555555555555556,\"#d8576b\"],[0.6666666666666666,\"#ed7953\"],[0.7777777777777778,\"#fb9f3a\"],[0.8888888888888888,\"#fdca26\"],[1.0,\"#f0f921\"]]}],\"histogram\":[{\"marker\":{\"pattern\":{\"fillmode\":\"overlay\",\"size\":10,\"solidity\":0.2}}}],\"histogram2d\":[{\"colorbar\":{\"outlinewidth\":0.0,\"ticks\":\"\"},\"colorscale\":[[0.0,\"#0d0887\"],[0.1111111111111111,\"#46039f\"],[0.2222222222222222,\"#7201a8\"],[0.3333333333333333,\"#9c179e\"],[0.4444444444444444,\"#bd3786\"],[0.5555555555555556,\"#d8576b\"],[0.6666666666666666,\"#ed7953\"],[0.7777777777777778,\"#fb9f3a\"],[0.8888888888888888,\"#fdca26\"],[1.0,\"#f0f921\"]]}],\"histogram2dcontour\":[{\"colorbar\":{\"outlinewidth\":0.0,\"ticks\":\"\"},\"colorscale\":[[0.0,\"#0d0887\"],[0.1111111111111111,\"#46039f\"],[0.2222222222222222,\"#7201a8\"],[0.3333333333333333,\"#9c179e\"],[0.4444444444444444,\"#bd3786\"],[0.5555555555555556,\"#d8576b\"],[0.6666666666666666,\"#ed7953\"],[0.7777777777777778,\"#fb9f3a\"],[0.8888888888888888,\"#fdca26\"],[1.0,\"#f0f921\"]]}],\"mesh3d\":[{\"colorbar\":{\"outlinewidth\":0.0,\"ticks\":\"\"}}],\"parcoords\":[{\"line\":{\"colorbar\":{\"outlinewidth\":0.0,\"ticks\":\"\"}}}],\"pie\":[{\"automargin\":true}],\"scatter\":[{\"marker\":{\"colorbar\":{\"outlinewidth\":0.0,\"ticks\":\"\"}}}],\"scatter3d\":[{\"marker\":{\"colorbar\":{\"outlinewidth\":0.0,\"ticks\":\"\"}},\"line\":{\"colorbar\":{\"outlinewidth\":0.0,\"ticks\":\"\"}}}],\"scattercarpet\":[{\"marker\":{\"colorbar\":{\"outlinewidth\":0.0,\"ticks\":\"\"}}}],\"scattergeo\":[{\"marker\":{\"colorbar\":{\"outlinewidth\":0.0,\"ticks\":\"\"}}}],\"scattergl\":[{\"marker\":{\"colorbar\":{\"outlinewidth\":0.0,\"ticks\":\"\"}}}],\"scattermapbox\":[{\"marker\":{\"colorbar\":{\"outlinewidth\":0.0,\"ticks\":\"\"}}}],\"scatterpolar\":[{\"marker\":{\"colorbar\":{\"outlinewidth\":0.0,\"ticks\":\"\"}}}],\"scatterpolargl\":[{\"marker\":{\"colorbar\":{\"outlinewidth\":0.0,\"ticks\":\"\"}}}],\"scatterternary\":[{\"marker\":{\"colorbar\":{\"outlinewidth\":0.0,\"ticks\":\"\"}}}],\"surface\":[{\"colorbar\":{\"outlinewidth\":0.0,\"ticks\":\"\"},\"colorscale\":[[0.0,\"#0d0887\"],[0.1111111111111111,\"#46039f\"],[0.2222222222222222,\"#7201a8\"],[0.3333333333333333,\"#9c179e\"],[0.4444444444444444,\"#bd3786\"],[0.5555555555555556,\"#d8576b\"],[0.6666666666666666,\"#ed7953\"],[0.7777777777777778,\"#fb9f3a\"],[0.8888888888888888,\"#fdca26\"],[1.0,\"#f0f921\"]]}],\"table\":[{\"cells\":{\"fill\":{\"color\":\"rgba(235, 240, 248, 1.0)\"},\"line\":{\"color\":\"rgba(255, 255, 255, 1.0)\"}},\"header\":{\"fill\":{\"color\":\"rgba(200, 212, 227, 1.0)\"},\"line\":{\"color\":\"rgba(255, 255, 255, 1.0)\"}}}]}},\"yaxis\":{\"title\":{\"text\":\"median value of owner occupied homes in 1000s\"}},\"xaxis\":{\"title\":{\"text\":\"price distribution\"}}};\r\n",
       "        var config = {\"responsive\":true};\r\n",
       "        Plotly.newPlot('29618998-695e-416b-a6cf-50c9ca89985b', data, layout, config);\r\n",
       "    });\r\n",
       "};\r\n",
       "if ((typeof(requirejs) !==  typeof(Function)) || (typeof(requirejs.config) !== typeof(Function))) {\r\n",
       "    var script = document.createElement(\"script\");\r\n",
       "    script.setAttribute(\"src\", \"https://cdnjs.cloudflare.com/ajax/libs/require.js/2.3.6/require.min.js\");\r\n",
       "    script.onload = function(){\r\n",
       "        renderPlotly_29618998695e416ba6cf50c9ca89985b();\r\n",
       "    };\r\n",
       "    document.getElementsByTagName(\"head\")[0].appendChild(script);\r\n",
       "}\r\n",
       "else {\r\n",
       "    renderPlotly_29618998695e416ba6cf50c9ca89985b();\r\n",
       "}\r\n",
       "</script></div>"
      ]
     },
     "metadata": {},
     "output_type": "display_data"
    }
   ],
   "source": [
    "open Plotly.NET\n",
    "\n",
    "// Note that we explicitly specify that we want to work with the values as floats. \n",
    "// Since the row identity is not needed anymore when plotting the distribution we can\n",
    "// directly convert the collection to a FSharp Sequence. \n",
    "let pricesNotAtRiver : seq<float> = \n",
    "    housesNotAtRiver\n",
    "    |> Frame.getCol \"MedianHomeValue\"\n",
    "    |> Series.values\n",
    "    \n",
    "\n",
    "Chart.Histogram(pricesNotAtRiver)\n",
    "|> Chart.withYAxisStyle(\"median value of owner occupied homes in 1000s\")\n",
    "|> Chart.withXAxisStyle(\"price distribution\")\n",
    "\n",
    "// Note: If you are working outside of a notebook, you may want to show the chart in browser using\n",
    "// |> Chart.show\n"
   ]
  },
  {
   "cell_type": "markdown",
   "metadata": {
    "dotnet_interactive": {
     "language": "html"
    },
    "polyglot_notebook": {
     "kernelName": "html"
    }
   },
   "source": [
    "Since plotly charts are interactive they invite us to combine mutliple charts. Let repeat the filter step and see if houses that are located at the river show a similar distribution:\n"
   ]
  },
  {
   "cell_type": "code",
   "execution_count": 6,
   "metadata": {
    "dotnet_interactive": {
     "language": "fsharp"
    },
    "polyglot_notebook": {
     "kernelName": "fsharp"
    },
    "vscode": {
     "languageId": "dotnet-interactive.fsharp"
    }
   },
   "outputs": [
    {
     "data": {
      "text/html": [
       "<div><div id=\"dc12fa66-6a3f-408a-872e-5a3df8640ce3\"><!-- Plotly chart will be drawn inside this DIV --></div><script type=\"text/javascript\">\r\n",
       "var renderPlotly_dc12fa666a3f408a872e5a3df8640ce3 = function() {\r\n",
       "    var fsharpPlotlyRequire = requirejs.config({context:'fsharp-plotly',paths:{plotly:'https://cdn.plot.ly/plotly-2.18.1.min'}}) || require;\r\n",
       "    fsharpPlotlyRequire(['plotly'], function(Plotly) {\r\n",
       "        var data = [{\"type\":\"histogram\",\"opacity\":0.66,\"x\":[24.0,21.6,34.7,33.4,36.2,28.7,22.9,27.1,16.5,18.9,15.0,18.9,21.7,20.4,18.2,19.9,23.1,17.5,20.2,18.2,13.6,19.6,15.2,14.5,15.6,13.9,16.6,14.8,18.4,21.0,12.7,14.5,13.2,13.1,13.5,18.9,20.0,21.0,24.7,30.8,34.9,26.6,25.3,24.7,21.2,19.3,20.0,16.6,14.4,19.4,19.7,20.5,25.0,23.4,18.9,35.4,24.7,31.6,23.3,19.6,18.7,16.0,22.2,25.0,33.0,23.5,19.4,22.0,17.4,20.9,24.2,21.7,22.8,23.4,24.1,21.4,20.0,20.8,21.2,20.3,28.0,23.9,24.8,22.9,23.9,26.6,22.5,22.2,23.6,28.7,22.6,22.0,22.9,25.0,20.6,28.4,21.4,38.7,43.8,33.2,27.5,26.5,18.6,19.3,20.1,19.5,19.5,20.4,19.8,19.4,21.7,22.8,18.8,18.7,18.5,18.3,21.2,19.2,20.4,19.3,22.0,20.3,20.5,17.3,18.8,21.4,15.7,16.2,18.0,14.3,19.2,19.6,23.0,18.4,15.6,18.1,17.4,17.1,13.3,17.8,14.0,14.4,15.6,11.8,13.8,15.6,14.6,17.8,15.4,21.5,19.6,19.4,13.1,41.3,24.3,23.3,50.0,22.7,25.0,50.0,23.8,23.8,22.3,17.4,19.1,23.1,23.6,22.6,29.4,23.2,24.6,29.9,37.2,39.8,36.2,37.9,32.5,26.4,29.6,50.0,32.0,29.8,34.9,37.0,30.5,36.4,31.1,29.1,50.0,33.3,30.3,34.6,34.9,32.9,24.1,42.3,48.5,50.0,22.6,24.4,22.5,28.1,23.7,25.0,28.7,30.1,44.8,50.0,37.6,31.6,46.7,31.5,24.3,31.7,41.7,48.3,24.0,31.5,23.7,23.3,22.0,20.1,22.2,23.7,17.6,18.5,24.3,20.5,24.5,26.2,24.4,24.8,29.6,42.8,21.9,20.9,44.0,50.0,36.0,30.1,33.8,43.1,48.8,31.0,36.5,22.8,30.7,50.0,43.5,21.1,25.2,24.4,32.0,29.1,35.1,45.4,35.4,32.2,22.0,20.1,23.2,22.3,24.8,28.5,37.3,27.9,23.9,21.7,28.6,27.1,20.3,22.5,29.0,24.8,22.0,26.4,33.1,36.1,28.4,33.4,28.2,22.8,20.3,16.1,22.1,19.4,21.6,23.8,16.2,17.8,19.8,23.1,21.0,23.8,23.1,20.4,18.5,25.0,24.6,23.0,22.2,19.3,22.6,19.8,17.1,19.4,22.2,20.7,21.1,19.5,18.5,20.6,19.0,18.7,32.7,16.5,23.9,31.2,17.5,17.2,23.1,24.5,26.6,22.9,24.1,18.6,30.1,18.2,20.6,22.6,25.0,19.9,20.8,27.5,21.9,23.1,50.0,50.0,13.8,13.8,15.0,13.9,13.3,13.1,10.2,10.4,10.9,11.3,12.3,8.8,7.2,10.5,7.4,10.2,11.5,15.1,23.2,9.7,13.8,12.7,13.1,12.5,8.5,5.0,6.3,5.6,7.2,12.1,8.3,8.5,5.0,11.9,27.9,17.2,27.5,15.0,17.2,17.9,16.3,7.0,7.2,7.5,10.4,8.8,8.4,16.7,14.2,20.8,13.4,11.7,8.3,10.2,10.9,11.0,9.5,14.5,14.1,16.1,14.3,11.7,13.4,9.6,8.7,8.4,12.8,10.5,17.1,18.4,15.4,10.8,11.8,14.9,12.6,14.1,13.0,13.4,15.2,16.1,17.8,14.9,14.1,12.7,13.5,14.9,20.0,16.4,17.7,19.5,20.2,21.4,19.9,19.0,19.1,19.1,20.1,19.9,19.6,23.2,29.8,13.8,13.3,16.7,12.0,14.6,21.4,23.0,23.7,25.0,21.8,20.6,21.2,19.1,20.6,15.2,7.0,8.1,13.6,20.1,21.8,24.5,23.1,19.7,18.3,21.2,17.5,16.8,22.4,20.6,23.9,22.0,11.9],\"offsetgroup\":\"A\",\"marker\":{\"pattern\":{}},\"name\":\"not at river\"},{\"type\":\"histogram\",\"opacity\":0.66,\"x\":[13.4,15.3,17.0,15.6,27.0,50.0,50.0,24.4,20.0,21.7,19.3,22.4,23.3,21.5,23.0,26.7,21.7,27.5,29.0,25.1,20.7,35.2,32.4,33.2,33.1,46.0,50.0,17.8,21.7,22.7,16.8,21.9,50.0,50.0,50.0],\"offsetgroup\":\"A\",\"marker\":{\"pattern\":{}},\"name\":\"at river\"}];\r\n",
       "        var layout = {\"width\":600,\"height\":600,\"template\":{\"layout\":{\"title\":{\"x\":0.05},\"font\":{\"color\":\"rgba(42, 63, 95, 1.0)\"},\"paper_bgcolor\":\"rgba(255, 255, 255, 1.0)\",\"plot_bgcolor\":\"rgba(229, 236, 246, 1.0)\",\"autotypenumbers\":\"strict\",\"colorscale\":{\"diverging\":[[0.0,\"#8e0152\"],[0.1,\"#c51b7d\"],[0.2,\"#de77ae\"],[0.3,\"#f1b6da\"],[0.4,\"#fde0ef\"],[0.5,\"#f7f7f7\"],[0.6,\"#e6f5d0\"],[0.7,\"#b8e186\"],[0.8,\"#7fbc41\"],[0.9,\"#4d9221\"],[1.0,\"#276419\"]],\"sequential\":[[0.0,\"#0d0887\"],[0.1111111111111111,\"#46039f\"],[0.2222222222222222,\"#7201a8\"],[0.3333333333333333,\"#9c179e\"],[0.4444444444444444,\"#bd3786\"],[0.5555555555555556,\"#d8576b\"],[0.6666666666666666,\"#ed7953\"],[0.7777777777777778,\"#fb9f3a\"],[0.8888888888888888,\"#fdca26\"],[1.0,\"#f0f921\"]],\"sequentialminus\":[[0.0,\"#0d0887\"],[0.1111111111111111,\"#46039f\"],[0.2222222222222222,\"#7201a8\"],[0.3333333333333333,\"#9c179e\"],[0.4444444444444444,\"#bd3786\"],[0.5555555555555556,\"#d8576b\"],[0.6666666666666666,\"#ed7953\"],[0.7777777777777778,\"#fb9f3a\"],[0.8888888888888888,\"#fdca26\"],[1.0,\"#f0f921\"]]},\"hovermode\":\"closest\",\"hoverlabel\":{\"align\":\"left\"},\"coloraxis\":{\"colorbar\":{\"outlinewidth\":0.0,\"ticks\":\"\"}},\"geo\":{\"showland\":true,\"landcolor\":\"rgba(229, 236, 246, 1.0)\",\"showlakes\":true,\"lakecolor\":\"rgba(255, 255, 255, 1.0)\",\"subunitcolor\":\"rgba(255, 255, 255, 1.0)\",\"bgcolor\":\"rgba(255, 255, 255, 1.0)\"},\"mapbox\":{\"style\":\"light\"},\"polar\":{\"bgcolor\":\"rgba(229, 236, 246, 1.0)\",\"radialaxis\":{\"linecolor\":\"rgba(255, 255, 255, 1.0)\",\"gridcolor\":\"rgba(255, 255, 255, 1.0)\",\"ticks\":\"\"},\"angularaxis\":{\"linecolor\":\"rgba(255, 255, 255, 1.0)\",\"gridcolor\":\"rgba(255, 255, 255, 1.0)\",\"ticks\":\"\"}},\"scene\":{\"xaxis\":{\"ticks\":\"\",\"linecolor\":\"rgba(255, 255, 255, 1.0)\",\"gridcolor\":\"rgba(255, 255, 255, 1.0)\",\"gridwidth\":2.0,\"zerolinecolor\":\"rgba(255, 255, 255, 1.0)\",\"backgroundcolor\":\"rgba(229, 236, 246, 1.0)\",\"showbackground\":true},\"yaxis\":{\"ticks\":\"\",\"linecolor\":\"rgba(255, 255, 255, 1.0)\",\"gridcolor\":\"rgba(255, 255, 255, 1.0)\",\"gridwidth\":2.0,\"zerolinecolor\":\"rgba(255, 255, 255, 1.0)\",\"backgroundcolor\":\"rgba(229, 236, 246, 1.0)\",\"showbackground\":true},\"zaxis\":{\"ticks\":\"\",\"linecolor\":\"rgba(255, 255, 255, 1.0)\",\"gridcolor\":\"rgba(255, 255, 255, 1.0)\",\"gridwidth\":2.0,\"zerolinecolor\":\"rgba(255, 255, 255, 1.0)\",\"backgroundcolor\":\"rgba(229, 236, 246, 1.0)\",\"showbackground\":true}},\"ternary\":{\"aaxis\":{\"ticks\":\"\",\"linecolor\":\"rgba(255, 255, 255, 1.0)\",\"gridcolor\":\"rgba(255, 255, 255, 1.0)\"},\"baxis\":{\"ticks\":\"\",\"linecolor\":\"rgba(255, 255, 255, 1.0)\",\"gridcolor\":\"rgba(255, 255, 255, 1.0)\"},\"caxis\":{\"ticks\":\"\",\"linecolor\":\"rgba(255, 255, 255, 1.0)\",\"gridcolor\":\"rgba(255, 255, 255, 1.0)\"},\"bgcolor\":\"rgba(229, 236, 246, 1.0)\"},\"xaxis\":{\"title\":{\"standoff\":15},\"ticks\":\"\",\"automargin\":\"height+width+left+right+top+bottom\",\"linecolor\":\"rgba(255, 255, 255, 1.0)\",\"gridcolor\":\"rgba(255, 255, 255, 1.0)\",\"zerolinecolor\":\"rgba(255, 255, 255, 1.0)\",\"zerolinewidth\":2.0},\"yaxis\":{\"title\":{\"standoff\":15},\"ticks\":\"\",\"automargin\":\"height+width+left+right+top+bottom\",\"linecolor\":\"rgba(255, 255, 255, 1.0)\",\"gridcolor\":\"rgba(255, 255, 255, 1.0)\",\"zerolinecolor\":\"rgba(255, 255, 255, 1.0)\",\"zerolinewidth\":2.0},\"annotationdefaults\":{\"arrowcolor\":\"#2a3f5f\",\"arrowhead\":0,\"arrowwidth\":1},\"shapedefaults\":{\"line\":{\"color\":\"rgba(42, 63, 95, 1.0)\"}},\"colorway\":[\"rgba(99, 110, 250, 1.0)\",\"rgba(239, 85, 59, 1.0)\",\"rgba(0, 204, 150, 1.0)\",\"rgba(171, 99, 250, 1.0)\",\"rgba(255, 161, 90, 1.0)\",\"rgba(25, 211, 243, 1.0)\",\"rgba(255, 102, 146, 1.0)\",\"rgba(182, 232, 128, 1.0)\",\"rgba(255, 151, 255, 1.0)\",\"rgba(254, 203, 82, 1.0)\"]},\"data\":{\"bar\":[{\"marker\":{\"line\":{\"color\":\"rgba(229, 236, 246, 1.0)\",\"width\":0.5},\"pattern\":{\"fillmode\":\"overlay\",\"size\":10,\"solidity\":0.2}},\"error_x\":{\"color\":\"rgba(42, 63, 95, 1.0)\"},\"error_y\":{\"color\":\"rgba(42, 63, 95, 1.0)\"}}],\"barpolar\":[{\"marker\":{\"line\":{\"color\":\"rgba(229, 236, 246, 1.0)\",\"width\":0.5},\"pattern\":{\"fillmode\":\"overlay\",\"size\":10,\"solidity\":0.2}}}],\"carpet\":[{\"aaxis\":{\"linecolor\":\"rgba(255, 255, 255, 1.0)\",\"gridcolor\":\"rgba(255, 255, 255, 1.0)\",\"endlinecolor\":\"rgba(42, 63, 95, 1.0)\",\"minorgridcolor\":\"rgba(255, 255, 255, 1.0)\",\"startlinecolor\":\"rgba(42, 63, 95, 1.0)\"},\"baxis\":{\"linecolor\":\"rgba(255, 255, 255, 1.0)\",\"gridcolor\":\"rgba(255, 255, 255, 1.0)\",\"endlinecolor\":\"rgba(42, 63, 95, 1.0)\",\"minorgridcolor\":\"rgba(255, 255, 255, 1.0)\",\"startlinecolor\":\"rgba(42, 63, 95, 1.0)\"}}],\"choropleth\":[{\"colorbar\":{\"outlinewidth\":0.0,\"ticks\":\"\"},\"colorscale\":[[0.0,\"#0d0887\"],[0.1111111111111111,\"#46039f\"],[0.2222222222222222,\"#7201a8\"],[0.3333333333333333,\"#9c179e\"],[0.4444444444444444,\"#bd3786\"],[0.5555555555555556,\"#d8576b\"],[0.6666666666666666,\"#ed7953\"],[0.7777777777777778,\"#fb9f3a\"],[0.8888888888888888,\"#fdca26\"],[1.0,\"#f0f921\"]]}],\"contour\":[{\"colorbar\":{\"outlinewidth\":0.0,\"ticks\":\"\"},\"colorscale\":[[0.0,\"#0d0887\"],[0.1111111111111111,\"#46039f\"],[0.2222222222222222,\"#7201a8\"],[0.3333333333333333,\"#9c179e\"],[0.4444444444444444,\"#bd3786\"],[0.5555555555555556,\"#d8576b\"],[0.6666666666666666,\"#ed7953\"],[0.7777777777777778,\"#fb9f3a\"],[0.8888888888888888,\"#fdca26\"],[1.0,\"#f0f921\"]]}],\"contourcarpet\":[{\"colorbar\":{\"outlinewidth\":0.0,\"ticks\":\"\"}}],\"heatmap\":[{\"colorbar\":{\"outlinewidth\":0.0,\"ticks\":\"\"},\"colorscale\":[[0.0,\"#0d0887\"],[0.1111111111111111,\"#46039f\"],[0.2222222222222222,\"#7201a8\"],[0.3333333333333333,\"#9c179e\"],[0.4444444444444444,\"#bd3786\"],[0.5555555555555556,\"#d8576b\"],[0.6666666666666666,\"#ed7953\"],[0.7777777777777778,\"#fb9f3a\"],[0.8888888888888888,\"#fdca26\"],[1.0,\"#f0f921\"]]}],\"heatmapgl\":[{\"colorbar\":{\"outlinewidth\":0.0,\"ticks\":\"\"},\"colorscale\":[[0.0,\"#0d0887\"],[0.1111111111111111,\"#46039f\"],[0.2222222222222222,\"#7201a8\"],[0.3333333333333333,\"#9c179e\"],[0.4444444444444444,\"#bd3786\"],[0.5555555555555556,\"#d8576b\"],[0.6666666666666666,\"#ed7953\"],[0.7777777777777778,\"#fb9f3a\"],[0.8888888888888888,\"#fdca26\"],[1.0,\"#f0f921\"]]}],\"histogram\":[{\"marker\":{\"pattern\":{\"fillmode\":\"overlay\",\"size\":10,\"solidity\":0.2}}}],\"histogram2d\":[{\"colorbar\":{\"outlinewidth\":0.0,\"ticks\":\"\"},\"colorscale\":[[0.0,\"#0d0887\"],[0.1111111111111111,\"#46039f\"],[0.2222222222222222,\"#7201a8\"],[0.3333333333333333,\"#9c179e\"],[0.4444444444444444,\"#bd3786\"],[0.5555555555555556,\"#d8576b\"],[0.6666666666666666,\"#ed7953\"],[0.7777777777777778,\"#fb9f3a\"],[0.8888888888888888,\"#fdca26\"],[1.0,\"#f0f921\"]]}],\"histogram2dcontour\":[{\"colorbar\":{\"outlinewidth\":0.0,\"ticks\":\"\"},\"colorscale\":[[0.0,\"#0d0887\"],[0.1111111111111111,\"#46039f\"],[0.2222222222222222,\"#7201a8\"],[0.3333333333333333,\"#9c179e\"],[0.4444444444444444,\"#bd3786\"],[0.5555555555555556,\"#d8576b\"],[0.6666666666666666,\"#ed7953\"],[0.7777777777777778,\"#fb9f3a\"],[0.8888888888888888,\"#fdca26\"],[1.0,\"#f0f921\"]]}],\"mesh3d\":[{\"colorbar\":{\"outlinewidth\":0.0,\"ticks\":\"\"}}],\"parcoords\":[{\"line\":{\"colorbar\":{\"outlinewidth\":0.0,\"ticks\":\"\"}}}],\"pie\":[{\"automargin\":true}],\"scatter\":[{\"marker\":{\"colorbar\":{\"outlinewidth\":0.0,\"ticks\":\"\"}}}],\"scatter3d\":[{\"marker\":{\"colorbar\":{\"outlinewidth\":0.0,\"ticks\":\"\"}},\"line\":{\"colorbar\":{\"outlinewidth\":0.0,\"ticks\":\"\"}}}],\"scattercarpet\":[{\"marker\":{\"colorbar\":{\"outlinewidth\":0.0,\"ticks\":\"\"}}}],\"scattergeo\":[{\"marker\":{\"colorbar\":{\"outlinewidth\":0.0,\"ticks\":\"\"}}}],\"scattergl\":[{\"marker\":{\"colorbar\":{\"outlinewidth\":0.0,\"ticks\":\"\"}}}],\"scattermapbox\":[{\"marker\":{\"colorbar\":{\"outlinewidth\":0.0,\"ticks\":\"\"}}}],\"scatterpolar\":[{\"marker\":{\"colorbar\":{\"outlinewidth\":0.0,\"ticks\":\"\"}}}],\"scatterpolargl\":[{\"marker\":{\"colorbar\":{\"outlinewidth\":0.0,\"ticks\":\"\"}}}],\"scatterternary\":[{\"marker\":{\"colorbar\":{\"outlinewidth\":0.0,\"ticks\":\"\"}}}],\"surface\":[{\"colorbar\":{\"outlinewidth\":0.0,\"ticks\":\"\"},\"colorscale\":[[0.0,\"#0d0887\"],[0.1111111111111111,\"#46039f\"],[0.2222222222222222,\"#7201a8\"],[0.3333333333333333,\"#9c179e\"],[0.4444444444444444,\"#bd3786\"],[0.5555555555555556,\"#d8576b\"],[0.6666666666666666,\"#ed7953\"],[0.7777777777777778,\"#fb9f3a\"],[0.8888888888888888,\"#fdca26\"],[1.0,\"#f0f921\"]]}],\"table\":[{\"cells\":{\"fill\":{\"color\":\"rgba(235, 240, 248, 1.0)\"},\"line\":{\"color\":\"rgba(255, 255, 255, 1.0)\"}},\"header\":{\"fill\":{\"color\":\"rgba(200, 212, 227, 1.0)\"},\"line\":{\"color\":\"rgba(255, 255, 255, 1.0)\"}}}]}},\"yaxis\":{\"title\":{\"text\":\"median value of owner occupied homes in 1000s\"}},\"xaxis\":{\"title\":{\"text\":\"Comparison of price distributions\"}}};\r\n",
       "        var config = {\"responsive\":true};\r\n",
       "        Plotly.newPlot('dc12fa66-6a3f-408a-872e-5a3df8640ce3', data, layout, config);\r\n",
       "    });\r\n",
       "};\r\n",
       "if ((typeof(requirejs) !==  typeof(Function)) || (typeof(requirejs.config) !== typeof(Function))) {\r\n",
       "    var script = document.createElement(\"script\");\r\n",
       "    script.setAttribute(\"src\", \"https://cdnjs.cloudflare.com/ajax/libs/require.js/2.3.6/require.min.js\");\r\n",
       "    script.onload = function(){\r\n",
       "        renderPlotly_dc12fa666a3f408a872e5a3df8640ce3();\r\n",
       "    };\r\n",
       "    document.getElementsByTagName(\"head\")[0].appendChild(script);\r\n",
       "}\r\n",
       "else {\r\n",
       "    renderPlotly_dc12fa666a3f408a872e5a3df8640ce3();\r\n",
       "}\r\n",
       "</script></div>"
      ]
     },
     "metadata": {},
     "output_type": "display_data"
    }
   ],
   "source": [
    "\n",
    "let housesAtRiver = \n",
    "    df\n",
    "    |> Frame.sliceCols [\"RoomsPerDwelling\";\"MedianHomeValue\";\"CharlesRiver\"]\n",
    "    |> Frame.filterRowValues (fun s -> s.GetAs<bool>(\"CharlesRiver\"))\n",
    "\n",
    "let pricesAtRiver : seq<float> = \n",
    "    housesAtRiver\n",
    "    |> Frame.getCol \"MedianHomeValue\"\n",
    "    |> Series.values\n",
    "\n",
    "\n",
    "[\n",
    "    Chart.Histogram(pricesNotAtRiver, Opacity = 0.66, OffsetGroup = \"A\")\n",
    "    |> Chart.withTraceInfo \"not at river\"\n",
    "    Chart.Histogram(pricesAtRiver, Opacity = 0.66, OffsetGroup = \"A\")\n",
    "    |> Chart.withTraceInfo \"at river\"\n",
    "]\n",
    "|> Chart.combine\n",
    "|> Chart.withYAxisStyle(\"median value of owner occupied homes in 1000s\")\n",
    "|> Chart.withXAxisStyle(\"Comparison of price distributions\")\n"
   ]
  },
  {
   "attachments": {},
   "cell_type": "markdown",
   "metadata": {
    "dotnet_interactive": {
     "language": "fsharp"
    },
    "polyglot_notebook": {
     "kernelName": "fsharp"
    }
   },
   "source": [
    "The interactive chart allows us to compare the distributions directly. We can now form our own ideas of the city of boston, the sampled area, just by looking at the data, e.g.:\n",
    "\n",
    "Assuming that the sampling process was homogenous - observing that there are many more houses sampled that are not located on the riverside could indicate that a spot on the river is a scarce commodity.\n",
    "This can also be backed by analyzing the tails of the distribution: it seems that houses located at the river are given a head-start in their assigned value - the distribution of the riverside houses is truncated on the left. \n",
    "\n",
    "Suppose we would have a customer who wants two models, one to predict the prices of a house at the riverside and one that predicts the prices if this is not the case. We can meet this demand by using FSharp.Stats in combination with Deedle. Of course we need a variable that is indicative of the house price, let's check if the number of rooms per dwelling correlates with the house value:\n"
   ]
  },
  {
   "cell_type": "code",
   "execution_count": 7,
   "metadata": {
    "dotnet_interactive": {
     "language": "fsharp"
    },
    "polyglot_notebook": {
     "kernelName": "fsharp"
    },
    "vscode": {
     "languageId": "dotnet-interactive.fsharp"
    }
   },
   "outputs": [
    {
     "data": {
      "text/html": [
       "<div class=\"dni-plaintext\">0.69535994707154</div>"
      ]
     },
     "metadata": {},
     "output_type": "display_data"
    }
   ],
   "source": [
    "open FSharp.Stats\n",
    "open FSharpAux\n",
    "open FSharp.Stats.Correlation\n",
    "\n",
    "let pricesAll :Series<int,float> = \n",
    "    df\n",
    "    |> Frame.getCol \"MedianHomeValue\"\n",
    "\n",
    "let roomsPerDwellingAll :Series<int,float> = \n",
    "    df\n",
    "    |> Frame.getCol \"RoomsPerDwelling\"   \n",
    "\n",
    "let correlation = \n",
    "    let tmpPrices, tmpRooms = \n",
    "        Series.zipInner pricesAll roomsPerDwellingAll    \n",
    "        |> Series.values \n",
    "        |> Seq.unzip\n",
    "    Seq.pearson tmpPrices tmpRooms\n",
    "\n",
    "correlation"
   ]
  },
  {
   "attachments": {},
   "cell_type": "markdown",
   "metadata": {
    "dotnet_interactive": {
     "language": "fsharp"
    },
    "polyglot_notebook": {
     "kernelName": "fsharp"
    }
   },
   "source": [
    "So indeed, the number of rooms per dwelling shows a positive correlation with the house prices. With a pearson correlation of ~0.7 it does not explain the house prices completely - this is not suprising to us, as one of our hypothesis is that the location (riverside or not) also influences the price -  however, it should be sufficient to create a linear model. \n",
    "\n",
    "So now we will use FSharp.Stats to build the two linear models ordered by the hypothetical customer. We start by defining a function that performs the fitting and plots the result:\n"
   ]
  },
  {
   "cell_type": "code",
   "execution_count": 8,
   "metadata": {
    "dotnet_interactive": {
     "language": "fsharp"
    },
    "polyglot_notebook": {
     "kernelName": "fsharp"
    },
    "vscode": {
     "languageId": "dotnet-interactive.fsharp"
    }
   },
   "outputs": [],
   "source": [
    "\n",
    "open Fitting.LinearRegression.OLS\n",
    "\n",
    "let predictPricesByRooms description data = \n",
    "    let pricesAll :Series<_,float> = \n",
    "        data\n",
    "        |> Frame.getCol \"MedianHomeValue\"\n",
    "\n",
    "    let roomsPerDwellingAll :Series<_,float> = \n",
    "        data\n",
    "        |> Frame.getCol \"RoomsPerDwelling\"   \n",
    "\n",
    "    let fit = \n",
    "        let tmpRooms, tmpPrices = \n",
    "            Series.zipInner roomsPerDwellingAll pricesAll    \n",
    "            |> Series.sortBy fst\n",
    "            |> Series.values \n",
    "            |> Seq.unzip\n",
    "        let coeffs = Linear.Univariable.fit (vector tmpRooms) (vector tmpPrices)\n",
    "        let predictedPrices = tmpRooms |> Seq.map (Linear.Univariable.predict coeffs)\n",
    "        [\n",
    "        Chart.Point(tmpRooms,tmpPrices)\n",
    "        |> Chart.withTraceInfo (sprintf \"%s: data\" description )\n",
    "        Chart.Line(tmpRooms,predictedPrices)\n",
    "        |> Chart.withTraceInfo (sprintf \"%s: coefficients: intercept:%f, slope:%f\" description coeffs.[0] coeffs.[1])\n",
    "        ]                                  \n",
    "        |> Chart.combine\n",
    "        |> Chart.withXAxisStyle(\"rooms per dwelling\")\n",
    "        |> Chart.withYAxisStyle(\"median value\")\n",
    "    fit   \n"
   ]
  },
  {
   "attachments": {},
   "cell_type": "markdown",
   "metadata": {
    "dotnet_interactive": {
     "language": "fsharp"
    },
    "polyglot_notebook": {
     "kernelName": "fsharp"
    }
   },
   "source": [
    "Afterwards, we can apply the function on our prepared datasets and have a look at the model and especially the model coefficients. \n"
   ]
  },
  {
   "cell_type": "code",
   "execution_count": 9,
   "metadata": {
    "dotnet_interactive": {
     "language": "fsharp"
    },
    "polyglot_notebook": {
     "kernelName": "fsharp"
    },
    "vscode": {
     "languageId": "dotnet-interactive.fsharp"
    }
   },
   "outputs": [
    {
     "data": {
      "text/html": [
       "<div><div id=\"ee70b310-4fbe-492f-bd70-ae37632a9d8a\"><!-- Plotly chart will be drawn inside this DIV --></div><script type=\"text/javascript\">\r\n",
       "var renderPlotly_ee70b3104fbe492fbd70ae37632a9d8a = function() {\r\n",
       "    var fsharpPlotlyRequire = requirejs.config({context:'fsharp-plotly',paths:{plotly:'https://cdn.plot.ly/plotly-2.18.1.min'}}) || require;\r\n",
       "    fsharpPlotlyRequire(['plotly'], function(Plotly) {\r\n",
       "        var data = [{\"type\":\"scatter\",\"mode\":\"markers\",\"x\":[3.561,3.863,4.138,4.138,4.368,4.519,4.628,4.652,4.88,4.903,4.906,4.926,4.963,4.97,4.973,5.0,5.019,5.036,5.093,5.155,5.186,5.272,5.277,5.304,5.304,5.349,5.362,5.39,5.39,5.399,5.404,5.412,5.414,5.427,5.453,5.454,5.456,5.468,5.52,5.531,5.536,5.56,5.565,5.569,5.57,5.572,5.593,5.594,5.597,5.599,5.602,5.604,5.605,5.608,5.613,5.617,5.627,5.628,5.631,5.637,5.648,5.663,5.67,5.682,5.683,5.693,5.701,5.705,5.706,5.707,5.708,5.709,5.713,5.713,5.713,5.727,5.731,5.741,5.747,5.757,5.757,5.759,5.762,5.782,5.783,5.786,5.787,5.79,5.794,5.813,5.813,5.818,5.822,5.834,5.836,5.837,5.841,5.85,5.851,5.852,5.854,5.854,5.856,5.856,5.857,5.859,5.868,5.869,5.87,5.871,5.872,5.874,5.875,5.876,5.877,5.878,5.879,5.88,5.884,5.885,5.887,5.888,5.889,5.891,5.895,5.896,5.898,5.905,5.913,5.914,5.924,5.926,5.926,5.927,5.928,5.933,5.935,5.935,5.936,5.936,5.942,5.949,5.95,5.952,5.957,5.961,5.961,5.963,5.965,5.966,5.966,5.968,5.972,5.976,5.981,5.983,5.983,5.985,5.986,5.987,5.99,5.998,6.003,6.004,6.004,6.006,6.009,6.009,6.012,6.014,6.015,6.019,6.02,6.021,6.023,6.027,6.03,6.03,6.031,6.037,6.041,6.047,6.051,6.059,6.065,6.066,6.069,6.072,6.081,6.083,6.086,6.092,6.095,6.096,6.096,6.101,6.103,6.108,6.108,6.112,6.113,6.114,6.115,6.12,6.121,6.122,6.122,6.127,6.127,6.13,6.137,6.14,6.142,6.144,6.144,6.145,6.151,6.152,6.153,6.162,6.162,6.163,6.167,6.167,6.167,6.169,6.172,6.174,6.176,6.182,6.185,6.185,6.193,6.193,6.195,6.202,6.208,6.209,6.209,6.211,6.211,6.216,6.219,6.223,6.226,6.229,6.229,6.229,6.23,6.232,6.24,6.242,6.245,6.249,6.251,6.251,6.254,6.266,6.273,6.279,6.286,6.29,6.297,6.301,6.302,6.31,6.312,6.312,6.315,6.315,6.316,6.317,6.319,6.326,6.326,6.333,6.335,6.341,6.343,6.345,6.348,6.358,6.372,6.375,6.376,6.376,6.377,6.38,6.38,6.382,6.383,6.389,6.393,6.398,6.402,6.404,6.405,6.405,6.405,6.406,6.411,6.415,6.416,6.417,6.417,6.417,6.421,6.425,6.426,6.43,6.431,6.431,6.433,6.434,6.436,6.437,6.438,6.442,6.453,6.454,6.456,6.458,6.459,6.461,6.471,6.474,6.481,6.482,6.484,6.485,6.487,6.49,6.495,6.495,6.51,6.511,6.513,6.516,6.525,6.538,6.54,6.545,6.546,6.549,6.552,6.556,6.563,6.565,6.567,6.575,6.579,6.59,6.593,6.595,6.604,6.606,6.616,6.618,6.619,6.625,6.629,6.63,6.63,6.635,6.635,6.642,6.649,6.655,6.657,6.674,6.678,6.696,6.701,6.715,6.718,6.727,6.727,6.728,6.728,6.739,6.749,6.75,6.762,6.77,6.781,6.782,6.782,6.794,6.794,6.8,6.812,6.816,6.824,6.833,6.842,6.849,6.852,6.854,6.86,6.861,6.871,6.874,6.897,6.939,6.943,6.951,6.957,6.968,6.968,6.975,6.976,6.98,6.98,6.982,6.998,7.007,7.014,7.024,7.041,7.061,7.079,7.088,7.104,7.107,7.135,7.147,7.148,7.155,7.163,7.178,7.185,7.185,7.203,7.206,7.236,7.241,7.249,7.274,7.287,7.313,7.327,7.333,7.358,7.393,7.412,7.416,7.42,7.454,7.47,7.489,7.52,7.61,7.686,7.765,7.82,7.82,7.831,7.853,7.875,7.929,8.034,8.04,8.069,8.247,8.259,8.266,8.297,8.337,8.398,8.704,8.725],\"y\":[27.5,23.1,13.8,11.9,8.8,7.0,17.9,10.5,10.2,11.8,13.8,14.6,21.9,50.0,16.1,7.4,14.4,9.7,8.1,16.3,17.8,13.1,7.2,12.0,10.4,8.3,20.8,19.7,11.5,14.4,19.6,23.7,7.0,13.8,5.0,15.2,20.2,15.6,12.3,8.5,11.3,22.8,11.7,17.5,13.6,23.1,17.6,17.4,15.4,13.9,19.4,26.4,18.5,27.9,15.7,17.2,12.8,15.6,16.5,14.3,20.8,18.2,23.1,19.3,5.0,16.2,13.1,16.2,17.1,21.8,18.5,19.4,20.1,12.7,15.1,18.2,19.3,18.7,8.5,15.6,15.0,19.9,21.8,19.8,22.5,20.0,19.4,20.3,18.3,16.6,14.5,10.5,18.4,19.9,19.5,10.2,20.0,21.0,19.5,6.3,10.8,22.7,21.1,17.3,13.3,22.6,19.3,19.5,22.0,20.6,20.4,20.3,17.4,20.9,23.8,22.0,18.8,19.1,18.6,20.9,12.7,18.9,21.7,22.6,18.5,8.3,17.2,20.6,18.8,17.8,15.6,24.5,19.1,19.6,18.3,18.9,23.1,8.4,13.5,20.6,17.4,20.4,13.2,19.0,8.8,20.5,21.7,19.7,19.6,16.0,24.7,18.7,20.3,12.7,24.3,13.6,20.1,19.0,21.4,5.6,17.5,23.4,19.1,18.9,20.3,14.2,21.7,18.9,22.9,17.5,22.5,21.2,23.2,19.2,19.4,16.8,11.9,16.6,19.4,21.1,20.4,14.8,23.2,20.6,22.8,24.3,21.2,14.5,20.0,22.2,24.0,18.7,20.1,18.2,13.5,25.0,13.4,24.3,21.9,22.6,21.0,19.1,20.5,20.6,22.2,21.5,22.1,20.4,23.9,13.8,19.3,20.8,15.2,36.2,19.8,23.3,17.8,8.7,29.6,13.3,24.1,21.4,20.1,22.9,19.9,25.3,27.1,14.0,21.2,25.0,14.6,14.1,11.0,13.8,21.7,10.9,11.7,23.2,21.4,24.7,25.0,50.0,18.4,10.2,20.5,19.4,19.6,21.4,20.1,21.2,25.2,23.0,23.4,20.6,19.9,12.6,18.5,21.6,24.1,20.0,21.4,23.5,16.1,14.9,24.8,20.7,23.0,21.2,24.6,22.3,22.2,19.5,23.8,19.6,24.4,22.6,18.1,14.9,7.2,22.5,14.5,22.2,23.0,28.1,17.7,23.1,15.0,9.5,13.1,23.1,24.7,23.9,23.7,25.0,22.3,12.1,12.5,22.0,18.6,17.1,16.7,25.0,23.6,22.6,13.0,24.2,21.6,16.1,23.8,28.7,24.6,18.0,24.5,7.2,14.3,23.2,24.8,22.9,22.0,17.1,22.2,19.2,11.8,9.6,13.1,19.8,23.7,29.1,16.7,15.4,24.4,22.9,26.4,18.4,23.3,25.0,20.2,23.1,14.1,24.4,16.5,10.9,29.4,27.1,31.5,29.8,32.5,24.8,23.8,24.0,24.1,22.0,22.4,30.8,29.1,23.3,28.4,30.1,23.9,28.4,13.4,27.9,26.6,22.8,24.5,28.7,13.9,15.2,17.2,21.0,28.6,23.9,16.4,22.8,26.2,27.5,28.0,30.1,14.9,30.5,13.4,23.7,25.0,26.6,26.5,7.5,32.0,13.3,22.0,31.1,35.1,31.6,8.4,14.1,30.1,28.2,27.5,32.0,29.9,28.5,24.8,31.2,22.0,26.6,41.3,37.0,29.6,35.4,10.4,34.9,23.9,37.2,29.8,33.1,33.4,23.6,30.7,34.9,29.0,25.0,28.7,32.2,33.0,30.3,32.9,36.2,37.3,37.9,31.6,36.4,34.7,34.9,33.8,36.5,36.1,32.7,35.4,34.6,33.3,15.0,31.0,36.0,31.5,17.8,31.7,33.2,33.4,44.0,43.5,50.0,43.1,42.3,46.7,39.8,43.8,45.4,50.0,48.5,50.0,50.0,50.0,37.6,38.7,48.3,42.8,44.8,50.0,41.7,48.8,50.0,50.0],\"marker\":{},\"line\":{},\"name\":\"not at river: data\"},{\"type\":\"scatter\",\"mode\":\"lines\",\"x\":[3.561,3.863,4.138,4.138,4.368,4.519,4.628,4.652,4.88,4.903,4.906,4.926,4.963,4.97,4.973,5.0,5.019,5.036,5.093,5.155,5.186,5.272,5.277,5.304,5.304,5.349,5.362,5.39,5.39,5.399,5.404,5.412,5.414,5.427,5.453,5.454,5.456,5.468,5.52,5.531,5.536,5.56,5.565,5.569,5.57,5.572,5.593,5.594,5.597,5.599,5.602,5.604,5.605,5.608,5.613,5.617,5.627,5.628,5.631,5.637,5.648,5.663,5.67,5.682,5.683,5.693,5.701,5.705,5.706,5.707,5.708,5.709,5.713,5.713,5.713,5.727,5.731,5.741,5.747,5.757,5.757,5.759,5.762,5.782,5.783,5.786,5.787,5.79,5.794,5.813,5.813,5.818,5.822,5.834,5.836,5.837,5.841,5.85,5.851,5.852,5.854,5.854,5.856,5.856,5.857,5.859,5.868,5.869,5.87,5.871,5.872,5.874,5.875,5.876,5.877,5.878,5.879,5.88,5.884,5.885,5.887,5.888,5.889,5.891,5.895,5.896,5.898,5.905,5.913,5.914,5.924,5.926,5.926,5.927,5.928,5.933,5.935,5.935,5.936,5.936,5.942,5.949,5.95,5.952,5.957,5.961,5.961,5.963,5.965,5.966,5.966,5.968,5.972,5.976,5.981,5.983,5.983,5.985,5.986,5.987,5.99,5.998,6.003,6.004,6.004,6.006,6.009,6.009,6.012,6.014,6.015,6.019,6.02,6.021,6.023,6.027,6.03,6.03,6.031,6.037,6.041,6.047,6.051,6.059,6.065,6.066,6.069,6.072,6.081,6.083,6.086,6.092,6.095,6.096,6.096,6.101,6.103,6.108,6.108,6.112,6.113,6.114,6.115,6.12,6.121,6.122,6.122,6.127,6.127,6.13,6.137,6.14,6.142,6.144,6.144,6.145,6.151,6.152,6.153,6.162,6.162,6.163,6.167,6.167,6.167,6.169,6.172,6.174,6.176,6.182,6.185,6.185,6.193,6.193,6.195,6.202,6.208,6.209,6.209,6.211,6.211,6.216,6.219,6.223,6.226,6.229,6.229,6.229,6.23,6.232,6.24,6.242,6.245,6.249,6.251,6.251,6.254,6.266,6.273,6.279,6.286,6.29,6.297,6.301,6.302,6.31,6.312,6.312,6.315,6.315,6.316,6.317,6.319,6.326,6.326,6.333,6.335,6.341,6.343,6.345,6.348,6.358,6.372,6.375,6.376,6.376,6.377,6.38,6.38,6.382,6.383,6.389,6.393,6.398,6.402,6.404,6.405,6.405,6.405,6.406,6.411,6.415,6.416,6.417,6.417,6.417,6.421,6.425,6.426,6.43,6.431,6.431,6.433,6.434,6.436,6.437,6.438,6.442,6.453,6.454,6.456,6.458,6.459,6.461,6.471,6.474,6.481,6.482,6.484,6.485,6.487,6.49,6.495,6.495,6.51,6.511,6.513,6.516,6.525,6.538,6.54,6.545,6.546,6.549,6.552,6.556,6.563,6.565,6.567,6.575,6.579,6.59,6.593,6.595,6.604,6.606,6.616,6.618,6.619,6.625,6.629,6.63,6.63,6.635,6.635,6.642,6.649,6.655,6.657,6.674,6.678,6.696,6.701,6.715,6.718,6.727,6.727,6.728,6.728,6.739,6.749,6.75,6.762,6.77,6.781,6.782,6.782,6.794,6.794,6.8,6.812,6.816,6.824,6.833,6.842,6.849,6.852,6.854,6.86,6.861,6.871,6.874,6.897,6.939,6.943,6.951,6.957,6.968,6.968,6.975,6.976,6.98,6.98,6.982,6.998,7.007,7.014,7.024,7.041,7.061,7.079,7.088,7.104,7.107,7.135,7.147,7.148,7.155,7.163,7.178,7.185,7.185,7.203,7.206,7.236,7.241,7.249,7.274,7.287,7.313,7.327,7.333,7.358,7.393,7.412,7.416,7.42,7.454,7.47,7.489,7.52,7.61,7.686,7.765,7.82,7.82,7.831,7.853,7.875,7.929,8.034,8.04,8.069,8.247,8.259,8.266,8.297,8.337,8.398,8.704,8.725],\"y\":[-2.3268509055239477,0.3984170407807781,2.8800352038066066,2.8800352038066066,4.955570394700942,6.318204367853305,7.301827567016275,7.518405152153072,9.575892210952667,9.783445730042096,9.810517928184197,9.99099924913154,10.324889692884106,10.388058155215667,10.415130353357767,10.658780136636672,10.830237391536635,10.983646514341864,11.498018279041766,12.057510373978502,12.337256421446867,13.1133261015204,13.158446431757234,13.402096215036131,13.402096215036131,13.808179187167632,13.9254920457834,14.178165895109665,14.178165895109665,14.259382489535966,14.304502819772793,14.376695348151728,14.394743480246461,14.51205633886223,14.746682056093768,14.755706122141127,14.773754254235868,14.882043046804263,15.351294481267324,15.45055920778836,15.495679538025193,15.71225712316199,15.757377453398831,15.793473717588292,15.802497783635665,15.8205459157304,16.010051302725095,16.019075368772462,16.046147566914563,16.064195699009296,16.091267897151397,16.10931602924613,16.118340095293497,16.14541229343559,16.190532623672432,16.226628887861892,16.31686954833556,16.325893614382927,16.352965812525028,16.40711020880922,16.506374935330257,16.641735926040766,16.704904388372327,16.81319318094073,16.822217246988096,16.912457907461757,16.984650435840692,17.02074670003016,17.029770766077533,17.038794832124893,17.04781889817226,17.056842964219626,17.092939228409094,17.092939228409094,17.092939228409094,17.21927615307223,17.25537241726169,17.345613077735358,17.39975747401956,17.489998134493227,17.489998134493227,17.50804626658796,17.535118464730054,17.71559978567739,17.724623851724765,17.751696049866858,17.760720115914225,17.787792314056325,17.823888578245793,17.995345833145755,17.995345833145755,18.04046616338259,18.076562427572057,18.18485122014046,18.202899352235193,18.21192341828256,18.248019682472027,18.32923627689832,18.338260342945695,18.347284408993062,18.365332541087795,18.365332541087795,18.383380673182522,18.383380673182522,18.392404739229896,18.410452871324622,18.49166946575093,18.50069353179829,18.509717597845658,18.51874166389303,18.52776572994039,18.545813862035125,18.55483792808249,18.56386199412986,18.572886060177225,18.581910126224592,18.590934192271952,18.599958258319326,18.636054522508793,18.64507858855616,18.663126720650887,18.67215078669826,18.681174852745627,18.69922298484036,18.73531924902982,18.744343315077188,18.76239144717192,18.825559909503497,18.897752437882424,18.90677650392979,18.99701716440346,19.015065296498193,19.015065296498193,19.024089362545553,19.033113428592927,19.078233758829754,19.096281890924487,19.096281890924487,19.105305956971854,19.105305956971854,19.159450353256062,19.222618815587623,19.23164288163499,19.249691013729723,19.294811343966558,19.330907608156025,19.330907608156025,19.34895574025076,19.367003872345492,19.37602793839286,19.37602793839286,19.394076070487593,19.43017233467706,19.466268598866527,19.511388929103354,19.529437061198088,19.529437061198088,19.54748519329283,19.55650925934019,19.565533325387555,19.592605523529663,19.66479805190859,19.709918382145425,19.718942448192784,19.718942448192784,19.736990580287525,19.764062778429626,19.764062778429626,19.79113497657172,19.80918310866646,19.81820717471382,19.854303438903294,19.863327504950654,19.87235157099802,19.890399703092754,19.92649596728223,19.95356816542433,19.95356816542433,19.96259223147169,20.01673662775589,20.052832891945357,20.10697728822955,20.143073552419025,20.21526608079796,20.26941047708216,20.27843454312952,20.30550674127162,20.33257893941372,20.41379553384003,20.431843665934757,20.458915864076857,20.51306026036105,20.54013245850315,20.549156524550526,20.549156524550526,20.594276854787353,20.612324986882086,20.65744531711892,20.65744531711892,20.693541581308388,20.70256564735576,20.71158971340312,20.72061377945049,20.765734109687322,20.774758175734696,20.783782241782056,20.783782241782056,20.82890257201889,20.82890257201889,20.85597477016099,20.91914323249255,20.946215430634652,20.964263562729393,20.982311694824126,20.982311694824126,20.991335760871486,21.045480157155687,21.054504223203054,21.06352828925042,21.144744883676722,21.144744883676722,21.15376894972409,21.189865213913556,21.189865213913556,21.189865213913556,21.207913346008283,21.234985544150383,21.253033676245124,21.271081808339858,21.32522620462406,21.352298402766152,21.352298402766152,21.424490931145087,21.424490931145087,21.442539063239828,21.50570752557139,21.55985192185559,21.56887598790295,21.56887598790295,21.58692411999769,21.58692411999769,21.632044450234524,21.659116648376624,21.695212912566085,21.722285110708185,21.749357308850293,21.749357308850293,21.749357308850293,21.75838137489766,21.776429506992393,21.84862203537132,21.866670167466054,21.893742365608155,21.929838629797615,21.947886761892356,21.947886761892356,21.97495896003445,22.08324775260286,22.14641621493442,22.20056061121862,22.26372907355018,22.299825337739655,22.362993800071216,22.39909006426069,22.40811413030805,22.480306658686985,22.498354790781725,22.498354790781725,22.525426988923826,22.525426988923826,22.534451054971186,22.543475121018552,22.561523253113286,22.624691715444854,22.624691715444854,22.68786017777642,22.705908309871155,22.760052706155356,22.77810083825009,22.796148970344817,22.823221168486917,22.913461828960585,23.03979875362372,23.06687095176582,23.07589501781319,23.07589501781319,23.084919083860548,23.111991282002656,23.111991282002656,23.130039414097382,23.139063480144756,23.193207876428957,23.229304140618417,23.27442447085525,23.31052073504472,23.328568867139452,23.33759293318682,23.33759293318682,23.33759293318682,23.346616999234186,23.391737329471013,23.427833593660488,23.436857659707854,23.44588172575522,23.44588172575522,23.44588172575522,23.48197798994469,23.51807425413415,23.527098320181523,23.563194584370983,23.572218650418357,23.572218650418357,23.590266782513083,23.599290848560457,23.617338980655184,23.626363046702558,23.635387112749918,23.671483376939385,23.77074810346042,23.779772169507787,23.79782030160252,23.815868433697254,23.824892499744614,23.842940631839355,23.933181292313023,23.960253490455123,24.023421952786684,24.03244601883405,24.050494150928785,24.05951821697616,24.077566349070885,24.104638547212986,24.14975887744982,24.14975887744982,24.285119868160315,24.29414393420769,24.312192066302416,24.339264264444516,24.420480858870825,24.537793717486586,24.55584184958132,24.600962179818154,24.60998624586552,24.63705844400762,24.664130642149715,24.700226906339182,24.76339536867075,24.78144350076549,24.799491632860217,24.871684161239152,24.907780425428612,25.007045151949647,25.034117350091748,25.05216548218648,25.133382076612783,25.151430208707517,25.241670869181178,25.25971900127592,25.268743067323285,25.322887463607486,25.358983727796947,25.368007793844313,25.368007793844313,25.413128124081148,25.413128124081148,25.476296586412722,25.539465048744283,25.593609445028484,25.611657577123218,25.765066699928454,25.801162964117914,25.963596152970517,26.008716483207344,26.13505340787048,26.16212560601258,26.24334220043889,26.24334220043889,26.25236626648625,26.25236626648625,26.351630993007284,26.441871653480945,26.45089571952832,26.559184512096714,26.63137704047565,26.730641766996676,26.73966583304405,26.73966583304405,26.847954625612445,26.847954625612445,26.902099021896646,27.010387814465048,27.046484078654515,27.11867660703345,27.19989320145975,27.281109795886046,27.344278258217614,27.37135045635972,27.389398588454448,27.44354298473865,27.452567050786016,27.542807711259684,27.569879909401777,27.777433428491214,28.156444202480614,28.192540466670074,28.26473299504901,28.31887739133321,28.418142117854245,28.418142117854245,28.481310580185813,28.49033464623318,28.526430910422654,28.526430910422654,28.54447904251738,28.68886409927525,28.770080693701544,28.833249156033112,28.92348981650678,29.076898939312017,29.257380260259346,29.419813449111942,29.501030043538243,29.645415100296113,29.67248729843822,29.925161147764477,30.03344994033288,30.04247400638024,30.105642468711814,30.17783499709075,30.313195987801244,30.376364450132805,30.376364450132805,30.538797638985407,30.565869837127515,30.836591818548506,30.881712148785347,30.953904677164267,31.179506328348445,31.296819186964207,31.531444904195745,31.65778182885888,31.71192622514308,31.937527876327245,32.25337018798508,32.42482744288504,32.46092370707451,32.497019971263974,32.803838216874446,32.9482232736323,33.11968052853228,33.39942657600064,34.21159252026364,34.89742153986351,35.610322757605466,36.106646390210635,36.106646390210635,36.20591111673168,36.40444056977373,36.6029700228158,37.09026958937361,38.03779652434711,38.091940920631295,38.35363883600494,39.95992259243619,40.06821138500461,40.13137984733617,40.411125894804535,40.772088536699194,41.32255656558856,44.08392077608277,44.27342616307745],\"marker\":{},\"line\":{},\"name\":\"not at river: coefficients: intercept:-34.461550, slope:9.024066\"},{\"type\":\"scatter\",\"mode\":\"markers\",\"x\":[5.012,5.344,5.403,5.404,5.803,5.807,5.875,5.888,5.92,5.951,5.96,6.064,6.127,6.129,6.152,6.164,6.212,6.25,6.373,6.395,6.631,6.683,6.726,6.758,6.826,6.879,6.951,7.016,7.267,7.645,7.691,7.802,7.923,8.375,8.78],\"y\":[15.3,20.0,13.4,19.3,16.8,22.4,50.0,23.3,20.7,21.5,21.7,24.4,22.7,17.0,15.6,21.7,17.8,27.0,23.0,21.7,25.1,50.0,29.0,32.4,33.1,27.5,26.7,50.0,33.2,46.0,35.2,50.0,50.0,50.0,21.9],\"marker\":{},\"line\":{},\"name\":\"at river: data\"},{\"type\":\"scatter\",\"mode\":\"lines\",\"x\":[5.012,5.344,5.403,5.404,5.803,5.807,5.875,5.888,5.92,5.951,5.96,6.064,6.127,6.129,6.152,6.164,6.212,6.25,6.373,6.395,6.631,6.683,6.726,6.758,6.826,6.879,6.951,7.016,7.267,7.645,7.691,7.802,7.923,8.375,8.78],\"y\":[15.643513400994912,18.461524511945896,18.96231564310886,18.97080362838281,22.35750975268835,22.391461693784144,22.968644692412653,23.078988500973992,23.350604029740346,23.613731573232755,23.690123440698294,24.572873909188964,25.107616981447727,25.124592951995623,25.319816613296453,25.421672436583833,25.829095729733368,26.151639170143426,27.195661358839118,27.38239703486598,29.385561559517882,29.82693679376321,30.191920160543006,30.463535689309367,31.040718687937876,31.490581907457155,32.101716847181464,32.65343588998814,34.78392019374927,37.992378627301875,38.38282594990352,39.32499231531182,40.35203853345962,44.18860787728444,47.626241913233656],\"marker\":{},\"line\":{},\"name\":\"at river: coefficients: intercept:-26.898269, slope:8.487985\"}];\r\n",
       "        var layout = {\"width\":1200,\"height\":700,\"template\":{\"layout\":{\"title\":{\"x\":0.05},\"font\":{\"color\":\"rgba(42, 63, 95, 1.0)\"},\"paper_bgcolor\":\"rgba(255, 255, 255, 1.0)\",\"plot_bgcolor\":\"rgba(229, 236, 246, 1.0)\",\"autotypenumbers\":\"strict\",\"colorscale\":{\"diverging\":[[0.0,\"#8e0152\"],[0.1,\"#c51b7d\"],[0.2,\"#de77ae\"],[0.3,\"#f1b6da\"],[0.4,\"#fde0ef\"],[0.5,\"#f7f7f7\"],[0.6,\"#e6f5d0\"],[0.7,\"#b8e186\"],[0.8,\"#7fbc41\"],[0.9,\"#4d9221\"],[1.0,\"#276419\"]],\"sequential\":[[0.0,\"#0d0887\"],[0.1111111111111111,\"#46039f\"],[0.2222222222222222,\"#7201a8\"],[0.3333333333333333,\"#9c179e\"],[0.4444444444444444,\"#bd3786\"],[0.5555555555555556,\"#d8576b\"],[0.6666666666666666,\"#ed7953\"],[0.7777777777777778,\"#fb9f3a\"],[0.8888888888888888,\"#fdca26\"],[1.0,\"#f0f921\"]],\"sequentialminus\":[[0.0,\"#0d0887\"],[0.1111111111111111,\"#46039f\"],[0.2222222222222222,\"#7201a8\"],[0.3333333333333333,\"#9c179e\"],[0.4444444444444444,\"#bd3786\"],[0.5555555555555556,\"#d8576b\"],[0.6666666666666666,\"#ed7953\"],[0.7777777777777778,\"#fb9f3a\"],[0.8888888888888888,\"#fdca26\"],[1.0,\"#f0f921\"]]},\"hovermode\":\"closest\",\"hoverlabel\":{\"align\":\"left\"},\"coloraxis\":{\"colorbar\":{\"outlinewidth\":0.0,\"ticks\":\"\"}},\"geo\":{\"showland\":true,\"landcolor\":\"rgba(229, 236, 246, 1.0)\",\"showlakes\":true,\"lakecolor\":\"rgba(255, 255, 255, 1.0)\",\"subunitcolor\":\"rgba(255, 255, 255, 1.0)\",\"bgcolor\":\"rgba(255, 255, 255, 1.0)\"},\"mapbox\":{\"style\":\"light\"},\"polar\":{\"bgcolor\":\"rgba(229, 236, 246, 1.0)\",\"radialaxis\":{\"linecolor\":\"rgba(255, 255, 255, 1.0)\",\"gridcolor\":\"rgba(255, 255, 255, 1.0)\",\"ticks\":\"\"},\"angularaxis\":{\"linecolor\":\"rgba(255, 255, 255, 1.0)\",\"gridcolor\":\"rgba(255, 255, 255, 1.0)\",\"ticks\":\"\"}},\"scene\":{\"xaxis\":{\"ticks\":\"\",\"linecolor\":\"rgba(255, 255, 255, 1.0)\",\"gridcolor\":\"rgba(255, 255, 255, 1.0)\",\"gridwidth\":2.0,\"zerolinecolor\":\"rgba(255, 255, 255, 1.0)\",\"backgroundcolor\":\"rgba(229, 236, 246, 1.0)\",\"showbackground\":true},\"yaxis\":{\"ticks\":\"\",\"linecolor\":\"rgba(255, 255, 255, 1.0)\",\"gridcolor\":\"rgba(255, 255, 255, 1.0)\",\"gridwidth\":2.0,\"zerolinecolor\":\"rgba(255, 255, 255, 1.0)\",\"backgroundcolor\":\"rgba(229, 236, 246, 1.0)\",\"showbackground\":true},\"zaxis\":{\"ticks\":\"\",\"linecolor\":\"rgba(255, 255, 255, 1.0)\",\"gridcolor\":\"rgba(255, 255, 255, 1.0)\",\"gridwidth\":2.0,\"zerolinecolor\":\"rgba(255, 255, 255, 1.0)\",\"backgroundcolor\":\"rgba(229, 236, 246, 1.0)\",\"showbackground\":true}},\"ternary\":{\"aaxis\":{\"ticks\":\"\",\"linecolor\":\"rgba(255, 255, 255, 1.0)\",\"gridcolor\":\"rgba(255, 255, 255, 1.0)\"},\"baxis\":{\"ticks\":\"\",\"linecolor\":\"rgba(255, 255, 255, 1.0)\",\"gridcolor\":\"rgba(255, 255, 255, 1.0)\"},\"caxis\":{\"ticks\":\"\",\"linecolor\":\"rgba(255, 255, 255, 1.0)\",\"gridcolor\":\"rgba(255, 255, 255, 1.0)\"},\"bgcolor\":\"rgba(229, 236, 246, 1.0)\"},\"xaxis\":{\"title\":{\"standoff\":15},\"ticks\":\"\",\"automargin\":\"height+width+left+right+top+bottom\",\"linecolor\":\"rgba(255, 255, 255, 1.0)\",\"gridcolor\":\"rgba(255, 255, 255, 1.0)\",\"zerolinecolor\":\"rgba(255, 255, 255, 1.0)\",\"zerolinewidth\":2.0},\"yaxis\":{\"title\":{\"standoff\":15},\"ticks\":\"\",\"automargin\":\"height+width+left+right+top+bottom\",\"linecolor\":\"rgba(255, 255, 255, 1.0)\",\"gridcolor\":\"rgba(255, 255, 255, 1.0)\",\"zerolinecolor\":\"rgba(255, 255, 255, 1.0)\",\"zerolinewidth\":2.0},\"annotationdefaults\":{\"arrowcolor\":\"#2a3f5f\",\"arrowhead\":0,\"arrowwidth\":1},\"shapedefaults\":{\"line\":{\"color\":\"rgba(42, 63, 95, 1.0)\"}},\"colorway\":[\"rgba(99, 110, 250, 1.0)\",\"rgba(239, 85, 59, 1.0)\",\"rgba(0, 204, 150, 1.0)\",\"rgba(171, 99, 250, 1.0)\",\"rgba(255, 161, 90, 1.0)\",\"rgba(25, 211, 243, 1.0)\",\"rgba(255, 102, 146, 1.0)\",\"rgba(182, 232, 128, 1.0)\",\"rgba(255, 151, 255, 1.0)\",\"rgba(254, 203, 82, 1.0)\"]},\"data\":{\"bar\":[{\"marker\":{\"line\":{\"color\":\"rgba(229, 236, 246, 1.0)\",\"width\":0.5},\"pattern\":{\"fillmode\":\"overlay\",\"size\":10,\"solidity\":0.2}},\"error_x\":{\"color\":\"rgba(42, 63, 95, 1.0)\"},\"error_y\":{\"color\":\"rgba(42, 63, 95, 1.0)\"}}],\"barpolar\":[{\"marker\":{\"line\":{\"color\":\"rgba(229, 236, 246, 1.0)\",\"width\":0.5},\"pattern\":{\"fillmode\":\"overlay\",\"size\":10,\"solidity\":0.2}}}],\"carpet\":[{\"aaxis\":{\"linecolor\":\"rgba(255, 255, 255, 1.0)\",\"gridcolor\":\"rgba(255, 255, 255, 1.0)\",\"endlinecolor\":\"rgba(42, 63, 95, 1.0)\",\"minorgridcolor\":\"rgba(255, 255, 255, 1.0)\",\"startlinecolor\":\"rgba(42, 63, 95, 1.0)\"},\"baxis\":{\"linecolor\":\"rgba(255, 255, 255, 1.0)\",\"gridcolor\":\"rgba(255, 255, 255, 1.0)\",\"endlinecolor\":\"rgba(42, 63, 95, 1.0)\",\"minorgridcolor\":\"rgba(255, 255, 255, 1.0)\",\"startlinecolor\":\"rgba(42, 63, 95, 1.0)\"}}],\"choropleth\":[{\"colorbar\":{\"outlinewidth\":0.0,\"ticks\":\"\"},\"colorscale\":[[0.0,\"#0d0887\"],[0.1111111111111111,\"#46039f\"],[0.2222222222222222,\"#7201a8\"],[0.3333333333333333,\"#9c179e\"],[0.4444444444444444,\"#bd3786\"],[0.5555555555555556,\"#d8576b\"],[0.6666666666666666,\"#ed7953\"],[0.7777777777777778,\"#fb9f3a\"],[0.8888888888888888,\"#fdca26\"],[1.0,\"#f0f921\"]]}],\"contour\":[{\"colorbar\":{\"outlinewidth\":0.0,\"ticks\":\"\"},\"colorscale\":[[0.0,\"#0d0887\"],[0.1111111111111111,\"#46039f\"],[0.2222222222222222,\"#7201a8\"],[0.3333333333333333,\"#9c179e\"],[0.4444444444444444,\"#bd3786\"],[0.5555555555555556,\"#d8576b\"],[0.6666666666666666,\"#ed7953\"],[0.7777777777777778,\"#fb9f3a\"],[0.8888888888888888,\"#fdca26\"],[1.0,\"#f0f921\"]]}],\"contourcarpet\":[{\"colorbar\":{\"outlinewidth\":0.0,\"ticks\":\"\"}}],\"heatmap\":[{\"colorbar\":{\"outlinewidth\":0.0,\"ticks\":\"\"},\"colorscale\":[[0.0,\"#0d0887\"],[0.1111111111111111,\"#46039f\"],[0.2222222222222222,\"#7201a8\"],[0.3333333333333333,\"#9c179e\"],[0.4444444444444444,\"#bd3786\"],[0.5555555555555556,\"#d8576b\"],[0.6666666666666666,\"#ed7953\"],[0.7777777777777778,\"#fb9f3a\"],[0.8888888888888888,\"#fdca26\"],[1.0,\"#f0f921\"]]}],\"heatmapgl\":[{\"colorbar\":{\"outlinewidth\":0.0,\"ticks\":\"\"},\"colorscale\":[[0.0,\"#0d0887\"],[0.1111111111111111,\"#46039f\"],[0.2222222222222222,\"#7201a8\"],[0.3333333333333333,\"#9c179e\"],[0.4444444444444444,\"#bd3786\"],[0.5555555555555556,\"#d8576b\"],[0.6666666666666666,\"#ed7953\"],[0.7777777777777778,\"#fb9f3a\"],[0.8888888888888888,\"#fdca26\"],[1.0,\"#f0f921\"]]}],\"histogram\":[{\"marker\":{\"pattern\":{\"fillmode\":\"overlay\",\"size\":10,\"solidity\":0.2}}}],\"histogram2d\":[{\"colorbar\":{\"outlinewidth\":0.0,\"ticks\":\"\"},\"colorscale\":[[0.0,\"#0d0887\"],[0.1111111111111111,\"#46039f\"],[0.2222222222222222,\"#7201a8\"],[0.3333333333333333,\"#9c179e\"],[0.4444444444444444,\"#bd3786\"],[0.5555555555555556,\"#d8576b\"],[0.6666666666666666,\"#ed7953\"],[0.7777777777777778,\"#fb9f3a\"],[0.8888888888888888,\"#fdca26\"],[1.0,\"#f0f921\"]]}],\"histogram2dcontour\":[{\"colorbar\":{\"outlinewidth\":0.0,\"ticks\":\"\"},\"colorscale\":[[0.0,\"#0d0887\"],[0.1111111111111111,\"#46039f\"],[0.2222222222222222,\"#7201a8\"],[0.3333333333333333,\"#9c179e\"],[0.4444444444444444,\"#bd3786\"],[0.5555555555555556,\"#d8576b\"],[0.6666666666666666,\"#ed7953\"],[0.7777777777777778,\"#fb9f3a\"],[0.8888888888888888,\"#fdca26\"],[1.0,\"#f0f921\"]]}],\"mesh3d\":[{\"colorbar\":{\"outlinewidth\":0.0,\"ticks\":\"\"}}],\"parcoords\":[{\"line\":{\"colorbar\":{\"outlinewidth\":0.0,\"ticks\":\"\"}}}],\"pie\":[{\"automargin\":true}],\"scatter\":[{\"marker\":{\"colorbar\":{\"outlinewidth\":0.0,\"ticks\":\"\"}}}],\"scatter3d\":[{\"marker\":{\"colorbar\":{\"outlinewidth\":0.0,\"ticks\":\"\"}},\"line\":{\"colorbar\":{\"outlinewidth\":0.0,\"ticks\":\"\"}}}],\"scattercarpet\":[{\"marker\":{\"colorbar\":{\"outlinewidth\":0.0,\"ticks\":\"\"}}}],\"scattergeo\":[{\"marker\":{\"colorbar\":{\"outlinewidth\":0.0,\"ticks\":\"\"}}}],\"scattergl\":[{\"marker\":{\"colorbar\":{\"outlinewidth\":0.0,\"ticks\":\"\"}}}],\"scattermapbox\":[{\"marker\":{\"colorbar\":{\"outlinewidth\":0.0,\"ticks\":\"\"}}}],\"scatterpolar\":[{\"marker\":{\"colorbar\":{\"outlinewidth\":0.0,\"ticks\":\"\"}}}],\"scatterpolargl\":[{\"marker\":{\"colorbar\":{\"outlinewidth\":0.0,\"ticks\":\"\"}}}],\"scatterternary\":[{\"marker\":{\"colorbar\":{\"outlinewidth\":0.0,\"ticks\":\"\"}}}],\"surface\":[{\"colorbar\":{\"outlinewidth\":0.0,\"ticks\":\"\"},\"colorscale\":[[0.0,\"#0d0887\"],[0.1111111111111111,\"#46039f\"],[0.2222222222222222,\"#7201a8\"],[0.3333333333333333,\"#9c179e\"],[0.4444444444444444,\"#bd3786\"],[0.5555555555555556,\"#d8576b\"],[0.6666666666666666,\"#ed7953\"],[0.7777777777777778,\"#fb9f3a\"],[0.8888888888888888,\"#fdca26\"],[1.0,\"#f0f921\"]]}],\"table\":[{\"cells\":{\"fill\":{\"color\":\"rgba(235, 240, 248, 1.0)\"},\"line\":{\"color\":\"rgba(255, 255, 255, 1.0)\"}},\"header\":{\"fill\":{\"color\":\"rgba(200, 212, 227, 1.0)\"},\"line\":{\"color\":\"rgba(255, 255, 255, 1.0)\"}}}]}},\"xaxis\":{\"title\":{\"text\":\"rooms per dwelling\"}},\"yaxis\":{\"title\":{\"text\":\"median value\"}}};\r\n",
       "        var config = {\"responsive\":true};\r\n",
       "        Plotly.newPlot('ee70b310-4fbe-492f-bd70-ae37632a9d8a', data, layout, config);\r\n",
       "    });\r\n",
       "};\r\n",
       "if ((typeof(requirejs) !==  typeof(Function)) || (typeof(requirejs.config) !== typeof(Function))) {\r\n",
       "    var script = document.createElement(\"script\");\r\n",
       "    script.setAttribute(\"src\", \"https://cdnjs.cloudflare.com/ajax/libs/require.js/2.3.6/require.min.js\");\r\n",
       "    script.onload = function(){\r\n",
       "        renderPlotly_ee70b3104fbe492fbd70ae37632a9d8a();\r\n",
       "    };\r\n",
       "    document.getElementsByTagName(\"head\")[0].appendChild(script);\r\n",
       "}\r\n",
       "else {\r\n",
       "    renderPlotly_ee70b3104fbe492fbd70ae37632a9d8a();\r\n",
       "}\r\n",
       "</script></div>"
      ]
     },
     "metadata": {},
     "output_type": "display_data"
    }
   ],
   "source": [
    " [\n",
    "    predictPricesByRooms \"not at river\" housesNotAtRiver\n",
    "    predictPricesByRooms \"at river\" housesAtRiver\n",
    "]\n",
    "|> Chart.combine\n",
    "|> Chart.withSize(1200.,700.)\n"
   ]
  },
  {
   "attachments": {},
   "cell_type": "markdown",
   "metadata": {
    "dotnet_interactive": {
     "language": "fsharp"
    },
    "polyglot_notebook": {
     "kernelName": "fsharp"
    }
   },
   "source": [
    "Both models approximate the data in a reasonable way. When we inspect the coefficients, we see that the models only differ slightly in slope, but differ in offset by ~7.5. This observation complements the insights gained by the explorative data analysis approach using the histogram! \n"
   ]
  }
 ],
 "metadata": {
  "kernelspec": {
   "display_name": ".NET (F#)",
   "language": "F#",
   "name": ".net-fsharp"
  },
  "language_info": {
   "name": "F#"
  },
  "polyglot_notebook": {
   "kernelInfo": {
    "defaultKernelName": "fsharp",
    "items": [
     {
      "aliases": [
       "f#",
       "F#"
      ],
      "languageName": "F#",
      "name": "fsharp"
     },
     {
      "aliases": [
       "frontend"
      ],
      "languageName": null,
      "name": "vscode"
     },
     {
      "aliases": [
       "js"
      ],
      "languageName": "JavaScript",
      "name": "javascript"
     },
     {
      "aliases": [],
      "name": "webview"
     }
    ]
   }
  }
 },
 "nbformat": 4,
 "nbformat_minor": 2
}
